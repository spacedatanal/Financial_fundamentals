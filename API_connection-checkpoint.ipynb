{
 "cells": [
  {
   "cell_type": "code",
   "execution_count": 5,
   "metadata": {},
   "outputs": [],
   "source": [
    "import pandas as pd\n",
    "import fundamentalanalysis as fa"
   ]
  },
  {
   "cell_type": "code",
   "execution_count": 38,
   "metadata": {},
   "outputs": [],
   "source": [
    "ticker_comp = [\"ASML\", \"AMD\", \"NVDA\", \"INTC\", \"TSM\"]\n",
    "api_key = \"1b4822b50840ef4f0117ef527756d7c6\""
   ]
  },
  {
   "cell_type": "code",
   "execution_count": 7,
   "metadata": {},
   "outputs": [],
   "source": [
    "companies = fa.available_companies(api_key)"
   ]
  },
  {
   "cell_type": "code",
   "execution_count": 39,
   "metadata": {},
   "outputs": [
    {
     "data": {
      "text/html": [
       "<div>\n",
       "<style scoped>\n",
       "    .dataframe tbody tr th:only-of-type {\n",
       "        vertical-align: middle;\n",
       "    }\n",
       "\n",
       "    .dataframe tbody tr th {\n",
       "        vertical-align: top;\n",
       "    }\n",
       "\n",
       "    .dataframe thead th {\n",
       "        text-align: right;\n",
       "    }\n",
       "</style>\n",
       "<table border=\"1\" class=\"dataframe\">\n",
       "  <thead>\n",
       "    <tr style=\"text-align: right;\">\n",
       "      <th></th>\n",
       "      <th>name</th>\n",
       "      <th>price</th>\n",
       "      <th>exchange</th>\n",
       "      <th>exchangeShortName</th>\n",
       "      <th>type</th>\n",
       "    </tr>\n",
       "    <tr>\n",
       "      <th>symbol</th>\n",
       "      <th></th>\n",
       "      <th></th>\n",
       "      <th></th>\n",
       "      <th></th>\n",
       "      <th></th>\n",
       "    </tr>\n",
       "  </thead>\n",
       "  <tbody>\n",
       "    <tr>\n",
       "      <th>INTC</th>\n",
       "      <td>Intel Corporation</td>\n",
       "      <td>27.22</td>\n",
       "      <td>NASDAQ Global Select</td>\n",
       "      <td>NASDAQ</td>\n",
       "      <td>stock</td>\n",
       "    </tr>\n",
       "    <tr>\n",
       "      <th>NVDA</th>\n",
       "      <td>NVIDIA Corporation</td>\n",
       "      <td>229.65</td>\n",
       "      <td>NASDAQ Global Select</td>\n",
       "      <td>NASDAQ</td>\n",
       "      <td>stock</td>\n",
       "    </tr>\n",
       "    <tr>\n",
       "      <th>ASML</th>\n",
       "      <td>ASML Holding N.V.</td>\n",
       "      <td>601.21</td>\n",
       "      <td>NASDAQ Global Select</td>\n",
       "      <td>NASDAQ</td>\n",
       "      <td>stock</td>\n",
       "    </tr>\n",
       "    <tr>\n",
       "      <th>AMD</th>\n",
       "      <td>Advanced Micro Devices, Inc.</td>\n",
       "      <td>82.67</td>\n",
       "      <td>NASDAQ Global Select</td>\n",
       "      <td>NASDAQ</td>\n",
       "      <td>stock</td>\n",
       "    </tr>\n",
       "    <tr>\n",
       "      <th>TSM</th>\n",
       "      <td>Taiwan Semiconductor Manufacturing Company Lim...</td>\n",
       "      <td>87.25</td>\n",
       "      <td>New York Stock Exchange</td>\n",
       "      <td>NYSE</td>\n",
       "      <td>stock</td>\n",
       "    </tr>\n",
       "  </tbody>\n",
       "</table>\n",
       "</div>"
      ],
      "text/plain": [
       "                                                     name   price  \\\n",
       "symbol                                                              \n",
       "INTC                                    Intel Corporation   27.22   \n",
       "NVDA                                   NVIDIA Corporation  229.65   \n",
       "ASML                                    ASML Holding N.V.  601.21   \n",
       "AMD                          Advanced Micro Devices, Inc.   82.67   \n",
       "TSM     Taiwan Semiconductor Manufacturing Company Lim...   87.25   \n",
       "\n",
       "                       exchange exchangeShortName   type  \n",
       "symbol                                                    \n",
       "INTC       NASDAQ Global Select            NASDAQ  stock  \n",
       "NVDA       NASDAQ Global Select            NASDAQ  stock  \n",
       "ASML       NASDAQ Global Select            NASDAQ  stock  \n",
       "AMD        NASDAQ Global Select            NASDAQ  stock  \n",
       "TSM     New York Stock Exchange              NYSE  stock  "
      ]
     },
     "execution_count": 39,
     "metadata": {},
     "output_type": "execute_result"
    }
   ],
   "source": [
    "companies[companies.index.isin(ticker_comp)]"
   ]
  },
  {
   "cell_type": "code",
   "execution_count": 40,
   "metadata": {},
   "outputs": [],
   "source": [
    "def ObtainProfiles(ticker, ticker_comp):\n",
    "    profile = fa.profile(ticker, api_key)\n",
    "    for i in ticker_comp:\n",
    "        data_company = fa.profile(i, api_key)\n",
    "        profile = profile.merge(data_company, left_index = True, right_index = True)\n",
    "\n",
    "def balance_sheet(ticker_comp, key):\n",
    "    balance_sheet_anually_total = pd.DataFrame()\n",
    "    for i in ticker_comp:\n",
    "        balance_sheet_annually = fa.balance_sheet_statement(i, api_key, period=\"annual\")\n",
    "        balance_sheet_annually = balance_sheet_annually.T\n",
    "        balance_sheet_annually[\"Company\"]=i\n",
    "        if i == key:\n",
    "            balance_sheet_anually_total = balance_sheet_annually\n",
    "        else:\n",
    "            balance_sheet_anually_total = pd.concat([balance_sheet_anually_total, balance_sheet_annually])\n",
    "\n",
    "    return balance_sheet_anually_total\n",
    "\n",
    "def key_metrics(ticker_comp, key):\n",
    "    key_metrics_annually_total = pd.DataFrame()\n",
    "    for i in ticker_comp:\n",
    "        key_metrics_annually = fa.key_metrics(i, api_key, period=\"annual\")\n",
    "        key_metrics_annually = key_metrics_annually.T\n",
    "        key_metrics_annually[\"Company\"]=i\n",
    "        if i == key:\n",
    "            key_metrics_annually_total = key_metrics_annually\n",
    "        else:\n",
    "            key_metrics_annually_total = pd.concat([key_metrics_annually_total, key_metrics_annually])\n",
    "\n",
    "    return key_metrics_annually_total\n",
    "\n",
    "def entreprise_value(ticker_comp, key):\n",
    "    entreprise_value_total = pd.DataFrame()\n",
    "    for i in ticker_comp:\n",
    "        entreprise_value = fa.enterprise(i, api_key, period=\"annual\")\n",
    "        entreprise_value = entreprise_value.T\n",
    "        entreprise_value[\"Company\"]=i\n",
    "        if i == key:\n",
    "            entreprise_value_total = entreprise_value\n",
    "        else:\n",
    "            entreprise_value_total = pd.concat([entreprise_value_total, entreprise_value])\n",
    "\n",
    "    return entreprise_value_total\n",
    "\n",
    "def quotes(ticker_comp, key):\n",
    "    quotes_total = pd.DataFrame()\n",
    "    for i in ticker_comp:\n",
    "        quotes = fa.quote(i, api_key)\n",
    "        quotes = quotes.T\n",
    "        quotes[\"Company\"]=i\n",
    "        if i == key:\n",
    "            quotes_total = quotes\n",
    "        else:\n",
    "            quotes_total = pd.concat([quotes_total, quotes])\n",
    "\n",
    "    return quotes_total\n",
    "\n",
    "def rating(ticker_comp, key):\n",
    "    rating_total = pd.DataFrame()\n",
    "    for i in ticker_comp:\n",
    "        rating = fa.rating(i, api_key)\n",
    "        rating[\"Company\"]=i\n",
    "        if i == key:\n",
    "            rating_total = rating\n",
    "        else:\n",
    "            rating_total = pd.concat([rating_total, rating])\n",
    "\n",
    "    return rating_total\n",
    "\n",
    "def cash_flow_statement_annually(ticker_comp, key):\n",
    "    cash_flow_statement_annually_total = pd.DataFrame()\n",
    "    for i in ticker_comp:\n",
    "        cash_flow_statement_annually = fa.cash_flow_statement(i, api_key)\n",
    "        cash_flow_statement_annually = cash_flow_statement_annually.T\n",
    "        cash_flow_statement_annually[\"Company\"]=i\n",
    "        if i == key:\n",
    "            cash_flow_statement_annually_total = cash_flow_statement_annually\n",
    "        else:\n",
    "            cash_flow_statement_annually_total = pd.concat([cash_flow_statement_annually_total, cash_flow_statement_annually])\n",
    "\n",
    "    return cash_flow_statement_annually_total\n",
    "\n",
    "def income_statement_annually(ticker_comp, key):\n",
    "    income_statement_annually_total = pd.DataFrame()\n",
    "    for i in ticker_comp:\n",
    "        income_statement_annually = fa.income_statement(i, api_key)\n",
    "        income_statement_annually = income_statement_annually.T\n",
    "        income_statement_annually[\"Company\"]=i\n",
    "        if i == key:\n",
    "            income_statement_annually_total = income_statement_annually\n",
    "        else:\n",
    "            income_statement_annually_total = pd.concat([income_statement_annually_total, income_statement_annually])\n",
    "\n",
    "    return income_statement_annually_total\n",
    "\n",
    "income_statement_annually_ = income_statement_annually(ticker_comp, ticker_comp[0])\n",
    "cash_flow_statement_annually_ = cash_flow_statement_annually(ticker_comp, ticker_comp[0])\n",
    "rating_ = rating(ticker_comp, ticker_comp[0])\n",
    "quotes_ = quotes(ticker_comp, ticker_comp[0])\n",
    "entreprise_value_ = entreprise_value(ticker_comp, ticker_comp[0])\n",
    "balance_sheet_anually_ = balance_sheet(ticker_comp, ticker_comp[0])\n",
    "key_metrics_annually_ = key_metrics(ticker_comp, ticker_comp[0])"
   ]
  },
  {
   "cell_type": "code",
   "execution_count": 41,
   "metadata": {},
   "outputs": [],
   "source": [
    "def read_data():\n",
    "    istat = pd.read_csv(\"income_statement_annually_total.csv\", index_col=\"Index\")\n",
    "    cfsat = pd.read_csv(\"cash_flow_statement_annually_total.csv\", index_col=\"Index\")\n",
    "    rt = pd.read_csv(\"rating_total.csv\", index_col=\"Index\")\n",
    "    qt = pd.read_csv(\"quotes_total.csv\", index_col=\"Index\")\n",
    "    evt = pd.read_csv(\"entreprise_value_total.csv\", index_col=\"Index\")\n",
    "    bsat = pd.read_csv(\"balance_sheet_anually_total.csv\", index_col=\"Index\")\n",
    "    kmat = pd.read_csv(\"key_metrics_annually_total.csv\", index_col=\"Index\")\n",
    "    return istat, cfsat, rt, qt, evt, bsat, kmat\n",
    "\n",
    "def merge_data(\n",
    "    income_statement_annually_, istat,\n",
    "    cash_flow_statement_annually_, cfsat,\n",
    "    rating_, rt,\n",
    "    quotes_, qt,\n",
    "    entreprise_value_, evt,\n",
    "    balance_sheet_anually_, bsat,\n",
    "    key_metrics_annually_ ,kmat\n",
    "    ):\n",
    "    income_statement_annually_total = pd.concat([income_statement_annually_, istat])\n",
    "    cash_flow_statement_annually_total =pd.concat([cash_flow_statement_annually_, cfsat])\n",
    "    rating_total = pd.concat([rating_, rt])\n",
    "    quotes_total = pd.concat([quotes_, qt])\n",
    "    entreprise_value_total = pd.concat([entreprise_value_, evt])\n",
    "    balance_sheet_anually_total = pd.concat([balance_sheet_anually_, bsat])\n",
    "    key_metrics_annually_total = pd.concat([key_metrics_annually_ ,kmat])\n",
    "    return income_statement_annually_total, cash_flow_statement_annually_total,rating_total,quotes_total,entreprise_value_total,balance_sheet_anually_total, key_metrics_annually_total\n",
    "\n",
    "def save_data_to_csv(income_statement_annually_total, cash_flow_statement_annually_total,rating_total,quotes_total,entreprise_value_total,balance_sheet_anually_total, key_metrics_annually_total):\n",
    "    income_statement_annually_total.to_csv(\"income_statement_annually_total.csv\", index=True, index_label=\"Index\")\n",
    "    cash_flow_statement_annually_total.to_csv(\"cash_flow_statement_annually_total.csv\",index=True, index_label=\"Index\")\n",
    "    rating_total.to_csv(\"rating_total.csv\", index=True, index_label=\"Index\")\n",
    "    quotes_total.to_csv(\"quotes_total.csv\", index=True, index_label=\"Index\")\n",
    "    entreprise_value_total.to_csv(\"entreprise_value_total.csv\", index=True, index_label=\"Index\")\n",
    "    balance_sheet_anually_total.to_csv(\"balance_sheet_anually_total.csv\", index=True, index_label=\"Index\")\n",
    "    key_metrics_annually_total.to_csv(\"key_metrics_annually_total.csv\", index=True, index_label=\"Index\")\n",
    "\n",
    "istat, cfsat, rt, qt, evt, bsat, kmat = read_data()\n",
    "income_statement_annually_total, cash_flow_statement_annually_total,rating_total,quotes_total,entreprise_value_total,balance_sheet_anually_total, key_metrics_annually_total = merge_data(income_statement_annually_, istat,\n",
    "    cash_flow_statement_annually_, cfsat,\n",
    "    rating_, rt,\n",
    "    quotes_, qt,\n",
    "    entreprise_value_, evt,\n",
    "    balance_sheet_anually_, bsat,\n",
    "    key_metrics_annually_ ,kmat)\n",
    "\n",
    "save_data_to_csv(income_statement_annually_total, cash_flow_statement_annually_total,rating_total,quotes_total,entreprise_value_total,balance_sheet_anually_total, key_metrics_annually_total)\n",
    "tickers = quotes_total.symbol.unique()"
   ]
  },
  {
   "cell_type": "code",
   "execution_count": 42,
   "metadata": {},
   "outputs": [
    {
     "data": {
      "application/vnd.plotly.v1+json": {
       "config": {
        "plotlyServerURL": "https://plot.ly"
       },
       "data": [
        {
         "mode": "lines+markers",
         "name": "ASML",
         "type": "scatter",
         "x": [
          "2022",
          "2021",
          "2020",
          "2019",
          "2018",
          "2017",
          "2016",
          "2015",
          "2014",
          "2013",
          "2012",
          "2011",
          "2010",
          "2009",
          "2008",
          "2007",
          "2006",
          "2005",
          "2004",
          "2003",
          "2002",
          "2001",
          "2000",
          "1999",
          "1998",
          "1997",
          "1996",
          "1995"
         ],
         "y": [
          38.1000311909883,
          48.96756286986674,
          47.17272389036779,
          43.18861236993124,
          22.340724376019185,
          29.114433033889096,
          30.677884271557602,
          25.35718114644594,
          32.68007708727086,
          28.84835769778137,
          17.961958522780805,
          9.358390202156746,
          12.273680761645705,
          -68.20404012790478,
          17.265140425493446,
          14.383704079949153,
          14.1634675284379,
          26.37740581764752,
          24.1109551672619,
          -48.01801266698726,
          -7.834173873294685,
          -6.756099672497483,
          11.15682924708376,
          79.75017773616774,
          32.203348460325955,
          14.568951345306827,
          7.651556563944012,
          7.767725643610611
         ]
        },
        {
         "mode": "lines+markers",
         "name": "AMD",
         "type": "scatter",
         "x": [
          "2022",
          "2021",
          "2020",
          "2019",
          "2018",
          "2017",
          "2016",
          "2015",
          "2014",
          "2013",
          "2012",
          "2011",
          "2010",
          "2009",
          "2008",
          "2007",
          "2006",
          "2005",
          "2004",
          "2003",
          "2002",
          "2001",
          "2000",
          "1999",
          "1998",
          "1997",
          "1996",
          "1995",
          "1994",
          "1993",
          "1992",
          "1991",
          "1990",
          "1989",
          "1988",
          "1987",
          "1986"
         ],
         "y": [
          76.59543181818181,
          56.06192915876027,
          43.65583935742973,
          147.74891495601173,
          51.92652818991098,
          227.59441860465114,
          -19.05211267605634,
          -3.4641818181818183,
          -5.050124069478907,
          -35.15638554216868,
          -1.428131868131868,
          7.99551934826884,
          12.136815286624202,
          17.73784574468085,
          -0.42713363460296966,
          -1.2088073394495413,
          -60.314457831325306,
          73.7243221358085,
          86.22145991487119,
          -19.312730955590368,
          -1.6683045896737712,
          -87.02357207705387,
          4.345623727144552,
          -47.856300260861744,
          -37.7411800692574,
          -115.74552584163109,
          -50.673535170413345,
          5.796558310400937,
          7.306472802908735,
          7.376943955867688,
          6.726994192894107,
          10.547382458583044,
          -7.4606425508671395,
          13.865063486510033,
          33.15456069820694,
          -11.966601030920074,
          -43.16999082235493
         ]
        },
        {
         "mode": "lines+markers",
         "name": "NVDA",
         "type": "scatter",
         "x": [
          "2023",
          "2022",
          "2021",
          "2020",
          "2019",
          "2018",
          "2017",
          "2016",
          "2015",
          "2014",
          "2013",
          "2012",
          "2011",
          "2010",
          "2009",
          "2008",
          "2007",
          "2006",
          "2005",
          "2004",
          "2003",
          "2002",
          "2001",
          "2000",
          "1999"
         ],
         "y": [
          109.10232142857144,
          62.671304347826094,
          75.41301015697138,
          52.31824034334763,
          20.2632407631007,
          48.52745323268789,
          35.726782713085235,
          25.911889250814333,
          18.05610601106588,
          20.65689170208414,
          13.882979293769642,
          15.374487256707223,
          54.349007450246106,
          -133.94385956138674,
          -145.0551479644486,
          16.958867315660473,
          23.684118403418637,
          25.632981559659736,
          37.907438686675434,
          48.09032579513297,
          15.541884563230393,
          50.421033805161564,
          30.70160183848516,
          26.562399789937626,
          63.193056477067316
         ]
        },
        {
         "mode": "lines+markers",
         "name": "INTC",
         "type": "scatter",
         "x": [
          "2022",
          "2021",
          "2020",
          "2019",
          "2018",
          "2017",
          "2016",
          "2015",
          "2014",
          "2013",
          "2012",
          "2011",
          "2010",
          "2009",
          "2008",
          "2007",
          "2006",
          "2005",
          "2004",
          "2003",
          "2002",
          "2001",
          "2000",
          "1999",
          "1998",
          "1997",
          "1996",
          "1995",
          "1994",
          "1993",
          "1992",
          "1991",
          "1990",
          "1989",
          "1988",
          "1987",
          "1986",
          "1985"
         ],
         "y": [
          13.548095832293486,
          10.48254932554862,
          9.45724340877554,
          12.608008361839605,
          10.23912269035292,
          22.601620664514112,
          16.63019581233036,
          14.524970227670753,
          15.723902084757347,
          13.225779625779627,
          9.18392367105861,
          9.848400556328233,
          10.098237962316817,
          25.858047608148315,
          15.174100529100528,
          22.310229357798168,
          23.27304718477399,
          17.590692520775626,
          20.044704630122407,
          36.28553802517284,
          20.520067977262464,
          97.98526173268289,
          11.154790552047443,
          21.98650090511468,
          19.965572248275542,
          9.681192151330453,
          13.506251740641769,
          8.130716628860124,
          7.027212061694746,
          6.358290264432903,
          9.722070804375,
          6.729436403928361,
          6.248762374737636,
          8.79927763045009,
          4.711368456458613,
          11.828014495,
          -6.248762375,
          1211.7546436033801
         ]
        },
        {
         "mode": "lines+markers",
         "name": "TSM",
         "type": "scatter",
         "x": [
          "2022",
          "2021",
          "2020",
          "2019",
          "2018",
          "2017",
          "2016",
          "2015",
          "2014",
          "2013",
          "2012",
          "2011",
          "2010",
          "2009",
          "2008",
          "2007",
          "2006",
          "2005",
          "2004",
          "2003",
          "2002",
          "2001",
          "2000",
          "1999",
          "1998",
          "1997"
         ],
         "y": [
          11.619001450011707,
          29.1331366045497,
          31.06105759907147,
          25.570080846839648,
          16.225994064495318,
          17.62806125919577,
          14.504817964859457,
          12.874249128164385,
          14.42405805507378,
          14.676516755833582,
          15.5156375336702,
          15.08205854204095,
          11.675269397989334,
          21.168853329666444,
          13.420115267046192,
          15.588702806156576,
          14.460807822199426,
          16.56873082623538,
          13.938250550640634,
          28.062009033012824,
          27.780646979314387,
          89.68692962207362,
          15.254747378275992,
          89.67784719469799,
          36.23674255489522,
          26.6450496874668
         ]
        },
        {
         "mode": "lines+markers",
         "name": "AVGO",
         "type": "scatter",
         "x": [
          2022,
          2021,
          2020,
          2019,
          2018,
          2017,
          2016,
          2015,
          2014,
          2013,
          2012,
          2011,
          2010,
          2009,
          2008,
          2007
         ],
         "y": [
          16.72719269247499,
          32.14081057007125,
          47.48353378378378,
          44.56314243759178,
          7.504496288441147,
          63.16994680851064,
          -35.8381138585394,
          23.831612903225803,
          82.31463878326997,
          20.328278985507247,
          14.373623445825933,
          14.988496376811595,
          13.666361445783133,
          -74.6590909090909,
          41.717108433734936,
          -21.77685534591195
         ]
        },
        {
         "mode": "lines+markers",
         "name": "TXN",
         "type": "scatter",
         "x": [
          2022,
          2021,
          2020,
          2019,
          2018,
          2017,
          2016,
          2015,
          2014,
          2013,
          2012,
          2011,
          2010,
          2009,
          2008,
          2007,
          2006,
          2005,
          2004,
          2003,
          2002,
          2001,
          2000,
          1999,
          1998,
          1997,
          1996,
          1995,
          1994,
          1993,
          1992,
          1991,
          1990,
          1989,
          1988,
          1987,
          1986,
          1985
         ],
         "y": [
          17.430341753343242,
          22.391274295276094,
          27.017646112600538,
          23.93451066374327,
          16.427419354838708,
          28.10973384030418,
          20.216119508809452,
          18.562498882022773,
          19.836193726898266,
          22.300268270120263,
          19.879181353041503,
          14.9846198568873,
          12.071716232961586,
          22.337142857142855,
          10.573,
          17.812495295445988,
          10.137387698686936,
          22.631153184165235,
          22.88694250403009,
          42.57971014350584,
          -50.774265591,
          -157.27262333416667,
          17.89722183024336,
          37.07097729483864,
          55.07981211185149,
          6.396636555232741,
          127.86306388504612,
          5.981043333878168,
          6.663506267030691,
          7.38546117590288,
          9.782266513512146,
          -3.7971074573672574,
          -46.165671592948726,
          6.07973265027463,
          5.268403509811051,
          9.896230645693267,
          33.30629680450952,
          -12.537022744999998
         ]
        },
        {
         "mode": "lines+markers",
         "name": "QCOM",
         "type": "scatter",
         "x": [
          2022,
          2021,
          2020,
          2019,
          2018,
          2017,
          2016,
          2015,
          2014,
          2013,
          2012,
          2011,
          2010,
          2009,
          2008,
          2007,
          2006,
          2005,
          2004,
          2003,
          2002,
          2001,
          2000,
          1999,
          1998,
          1997,
          1996,
          1995,
          1994,
          1993,
          1992,
          1991,
          1990
         ],
         "y": [
          10.394868583797155,
          16.694225367687714,
          25.868305117352826,
          21.043958048335615,
          -21.83671875,
          30.91757502027575,
          16.208245398773006,
          16.12781635363309,
          15.805455001882764,
          16.847191011235953,
          17.228187919463085,
          19.68583098591549,
          22.5627871881737,
          47.81804020100502,
          20.596253164556966,
          21.153315168029067,
          25.973089068825914,
          33.93709752683154,
          36.67944186046511,
          26.440101674837717,
          39.17680525176277,
          -40.845131281168364,
          50.459612898161794,
          92.67457295139636,
          20.229839358996628,
          33.23914213496221,
          94.0417363116672,
          54.22039424040546,
          52.34430714,
          114.091700713812,
          -63.55708916097562,
          -43.56964285714286,
          -16.071428585526313
         ]
        },
        {
         "mode": "lines+markers",
         "name": "LRCX",
         "type": "scatter",
         "x": [
          2022,
          2021,
          2020,
          2019,
          2018,
          2017,
          2016,
          2015,
          2014,
          2013,
          2012,
          2011,
          2010,
          2009,
          2008,
          2007,
          2006,
          2005,
          2004,
          2003,
          2002,
          2001,
          2000,
          1999,
          1998,
          1997,
          1996,
          1995,
          1994,
          1993,
          1992,
          1991,
          1990,
          1989,
          1988,
          1987,
          1986
         ],
         "y": [
          13.663683690871748,
          23.771338630221948,
          19.837578295665647,
          13.313288820541839,
          11.611202605472972,
          14.236059909421988,
          13.902059123745005,
          19.528210721242512,
          17.607766037365824,
          65.58262471570704,
          26.81894845397486,
          7.3955459220612685,
          14.935275637567825,
          -10.5747408554748,
          10.256058509294434,
          10.598489390740372,
          18.094715015413023,
          13.066859534778063,
          40.50713066949439,
          -261.6215524106151,
          -20.769169982511727,
          59.51590986995408,
          20.87304316037789,
          -13.973482196305115,
          -4.420164904373545,
          -29.656650364722015,
          4.598477435628495,
          17.194060665357632,
          16.722258668828772,
          29.736678240484924,
          14.48565659875,
          15.518762680978847,
          -7.023348670079803,
          9.064326237816774,
          36.66666,
          -23.6111125,
          38.33333999999999
         ]
        },
        {
         "mode": "lines+markers",
         "name": "MU",
         "type": "scatter",
         "x": [
          2022,
          2021,
          2020,
          2019,
          2018,
          2017,
          2016,
          2015,
          2014,
          2013,
          2012,
          2011,
          2010,
          2009,
          2008,
          2007,
          2006,
          2005,
          2004,
          2003,
          2002,
          2001,
          2000,
          1999,
          1998,
          1997,
          1996,
          1995,
          1994,
          1993,
          1992,
          1991,
          1990,
          1989,
          1988,
          1987,
          1986,
          1985
         ],
         "y": [
          7.336102221710602,
          14.139020644941134,
          19.13892817268329,
          7.882524948518928,
          4.299930668553237,
          6.841291019846728,
          -62.46028985507246,
          6.123249396343567,
          11.421543513957307,
          11.650814285714285,
          -5.935674418604652,
          33.95880239520958,
          3.2765540540540536,
          -3.1286207084468667,
          -2.023100679431748,
          -27.519359375,
          29.308235294117647,
          40.03337234042553,
          47.54118956743003,
          -6.701442815071865,
          -11.322796767686494,
          -34.45817157181152,
          29.594189630533403,
          -281.8153091590676,
          -22.36007785725888,
          29.24540574804545,
          8.067454468042124,
          19.217272687355315,
          10.121033002018477,
          20.08322327224622,
          74.38679682,
          121.14536327647059,
          65.85096396389892,
          4.818181827350669,
          5.03676470382653,
          -11.999999999999998,
          -5.624999990044247,
          706.5250000000002
         ]
        },
        {
         "mode": "lines+markers",
         "name": "NXPI",
         "type": "scatter",
         "x": [
          2022,
          2021,
          2020,
          2019,
          2018,
          2017,
          2016,
          2015,
          2014,
          2013,
          2012,
          2011,
          2010,
          2009,
          2008
         ],
         "y": [
          14.849206447793328,
          32.95408063067878,
          855.4829736538461,
          147.71377185185187,
          10.812152028985507,
          17.901607286681713,
          165.87065385,
          13.237298165137615,
          33.72854471243043,
          32.80114706896552,
          -56.774515533913046,
          9.805744717948716,
          -10.523750877192985,
          -17.22016,
          -0.7008166666666668
         ]
        },
        {
         "mode": "lines+markers",
         "name": "STM",
         "type": "scatter",
         "x": [
          2022,
          2021,
          2020,
          2019,
          2018,
          2017,
          2016,
          2015,
          2014,
          2013,
          2012,
          2011,
          2010,
          2009,
          2008,
          2007,
          2006,
          2005,
          2004,
          2003,
          2002,
          2001,
          2000,
          1999,
          1998,
          1997,
          1996,
          1995
         ],
         "y": [
          8.139588103358589,
          22.10188456476,
          30.02418902915009,
          23.377347522400772,
          9.654416705027069,
          23.854342673777776,
          58.83618808529411,
          53.06875442672729,
          51.336397577441865,
          -11.355893710651829,
          -2.925017794259598,
          33.60505665509677,
          10.974164128714282,
          -5.109443319484599,
          -7.556818180279898,
          -26.981132075471695,
          21.149425294117645,
          60.00000002255639,
          28.83582088352745,
          93.13793102343874,
          20.550869102801645,
          70.33465867347086,
          16.798778327694563,
          51.00621326430941,
          17.179206705177865,
          13.43789856711084,
          9.996384127061743,
          6.418368137548344
         ]
        },
        {
         "mode": "lines+markers",
         "name": "GFS",
         "type": "scatter",
         "x": [
          2022,
          2021,
          2020,
          2019,
          2018
         ],
         "y": [
          20.05988259668508,
          -131.85395884352792,
          -18.312684468276625,
          -17.997297610681557,
          -9.134444447093077
         ]
        },
        {
         "mode": "lines+markers",
         "name": "UMC",
         "type": "scatter",
         "x": [
          2021,
          2020,
          2019,
          2018,
          2017,
          2016,
          2015,
          2014,
          2013,
          2012,
          2011,
          2010,
          2009,
          2008,
          2007,
          2006,
          2005,
          2004,
          2003,
          2002,
          2001,
          2000,
          1999
         ],
         "y": [
          15.431086928427849,
          24.979059821571685,
          23.26621729966621,
          17.368910584436687,
          17.835825111284866,
          16.100324097477984,
          11.7257731018939,
          16.138911650427495,
          12.083721672039893,
          18.622176945313786,
          15.328479358077686,
          9.596736591847137,
          81.2721647249013,
          -7.556946090223607,
          20.761057039775995,
          12.650985771867065,
          51.62039401889365,
          12.258707285639096,
          34.842541505468375,
          14.609409416972596,
          -68.13994063535023,
          3.1950990841582723,
          18.187189861889074
         ]
        }
       ],
       "layout": {
        "template": {
         "data": {
          "bar": [
           {
            "error_x": {
             "color": "#2a3f5f"
            },
            "error_y": {
             "color": "#2a3f5f"
            },
            "marker": {
             "line": {
              "color": "#E5ECF6",
              "width": 0.5
             }
            },
            "type": "bar"
           }
          ],
          "barpolar": [
           {
            "marker": {
             "line": {
              "color": "#E5ECF6",
              "width": 0.5
             }
            },
            "type": "barpolar"
           }
          ],
          "carpet": [
           {
            "aaxis": {
             "endlinecolor": "#2a3f5f",
             "gridcolor": "white",
             "linecolor": "white",
             "minorgridcolor": "white",
             "startlinecolor": "#2a3f5f"
            },
            "baxis": {
             "endlinecolor": "#2a3f5f",
             "gridcolor": "white",
             "linecolor": "white",
             "minorgridcolor": "white",
             "startlinecolor": "#2a3f5f"
            },
            "type": "carpet"
           }
          ],
          "choropleth": [
           {
            "colorbar": {
             "outlinewidth": 0,
             "ticks": ""
            },
            "type": "choropleth"
           }
          ],
          "contour": [
           {
            "colorbar": {
             "outlinewidth": 0,
             "ticks": ""
            },
            "colorscale": [
             [
              0,
              "#0d0887"
             ],
             [
              0.1111111111111111,
              "#46039f"
             ],
             [
              0.2222222222222222,
              "#7201a8"
             ],
             [
              0.3333333333333333,
              "#9c179e"
             ],
             [
              0.4444444444444444,
              "#bd3786"
             ],
             [
              0.5555555555555556,
              "#d8576b"
             ],
             [
              0.6666666666666666,
              "#ed7953"
             ],
             [
              0.7777777777777778,
              "#fb9f3a"
             ],
             [
              0.8888888888888888,
              "#fdca26"
             ],
             [
              1,
              "#f0f921"
             ]
            ],
            "type": "contour"
           }
          ],
          "contourcarpet": [
           {
            "colorbar": {
             "outlinewidth": 0,
             "ticks": ""
            },
            "type": "contourcarpet"
           }
          ],
          "heatmap": [
           {
            "colorbar": {
             "outlinewidth": 0,
             "ticks": ""
            },
            "colorscale": [
             [
              0,
              "#0d0887"
             ],
             [
              0.1111111111111111,
              "#46039f"
             ],
             [
              0.2222222222222222,
              "#7201a8"
             ],
             [
              0.3333333333333333,
              "#9c179e"
             ],
             [
              0.4444444444444444,
              "#bd3786"
             ],
             [
              0.5555555555555556,
              "#d8576b"
             ],
             [
              0.6666666666666666,
              "#ed7953"
             ],
             [
              0.7777777777777778,
              "#fb9f3a"
             ],
             [
              0.8888888888888888,
              "#fdca26"
             ],
             [
              1,
              "#f0f921"
             ]
            ],
            "type": "heatmap"
           }
          ],
          "heatmapgl": [
           {
            "colorbar": {
             "outlinewidth": 0,
             "ticks": ""
            },
            "colorscale": [
             [
              0,
              "#0d0887"
             ],
             [
              0.1111111111111111,
              "#46039f"
             ],
             [
              0.2222222222222222,
              "#7201a8"
             ],
             [
              0.3333333333333333,
              "#9c179e"
             ],
             [
              0.4444444444444444,
              "#bd3786"
             ],
             [
              0.5555555555555556,
              "#d8576b"
             ],
             [
              0.6666666666666666,
              "#ed7953"
             ],
             [
              0.7777777777777778,
              "#fb9f3a"
             ],
             [
              0.8888888888888888,
              "#fdca26"
             ],
             [
              1,
              "#f0f921"
             ]
            ],
            "type": "heatmapgl"
           }
          ],
          "histogram": [
           {
            "marker": {
             "colorbar": {
              "outlinewidth": 0,
              "ticks": ""
             }
            },
            "type": "histogram"
           }
          ],
          "histogram2d": [
           {
            "colorbar": {
             "outlinewidth": 0,
             "ticks": ""
            },
            "colorscale": [
             [
              0,
              "#0d0887"
             ],
             [
              0.1111111111111111,
              "#46039f"
             ],
             [
              0.2222222222222222,
              "#7201a8"
             ],
             [
              0.3333333333333333,
              "#9c179e"
             ],
             [
              0.4444444444444444,
              "#bd3786"
             ],
             [
              0.5555555555555556,
              "#d8576b"
             ],
             [
              0.6666666666666666,
              "#ed7953"
             ],
             [
              0.7777777777777778,
              "#fb9f3a"
             ],
             [
              0.8888888888888888,
              "#fdca26"
             ],
             [
              1,
              "#f0f921"
             ]
            ],
            "type": "histogram2d"
           }
          ],
          "histogram2dcontour": [
           {
            "colorbar": {
             "outlinewidth": 0,
             "ticks": ""
            },
            "colorscale": [
             [
              0,
              "#0d0887"
             ],
             [
              0.1111111111111111,
              "#46039f"
             ],
             [
              0.2222222222222222,
              "#7201a8"
             ],
             [
              0.3333333333333333,
              "#9c179e"
             ],
             [
              0.4444444444444444,
              "#bd3786"
             ],
             [
              0.5555555555555556,
              "#d8576b"
             ],
             [
              0.6666666666666666,
              "#ed7953"
             ],
             [
              0.7777777777777778,
              "#fb9f3a"
             ],
             [
              0.8888888888888888,
              "#fdca26"
             ],
             [
              1,
              "#f0f921"
             ]
            ],
            "type": "histogram2dcontour"
           }
          ],
          "mesh3d": [
           {
            "colorbar": {
             "outlinewidth": 0,
             "ticks": ""
            },
            "type": "mesh3d"
           }
          ],
          "parcoords": [
           {
            "line": {
             "colorbar": {
              "outlinewidth": 0,
              "ticks": ""
             }
            },
            "type": "parcoords"
           }
          ],
          "pie": [
           {
            "automargin": true,
            "type": "pie"
           }
          ],
          "scatter": [
           {
            "marker": {
             "colorbar": {
              "outlinewidth": 0,
              "ticks": ""
             }
            },
            "type": "scatter"
           }
          ],
          "scatter3d": [
           {
            "line": {
             "colorbar": {
              "outlinewidth": 0,
              "ticks": ""
             }
            },
            "marker": {
             "colorbar": {
              "outlinewidth": 0,
              "ticks": ""
             }
            },
            "type": "scatter3d"
           }
          ],
          "scattercarpet": [
           {
            "marker": {
             "colorbar": {
              "outlinewidth": 0,
              "ticks": ""
             }
            },
            "type": "scattercarpet"
           }
          ],
          "scattergeo": [
           {
            "marker": {
             "colorbar": {
              "outlinewidth": 0,
              "ticks": ""
             }
            },
            "type": "scattergeo"
           }
          ],
          "scattergl": [
           {
            "marker": {
             "colorbar": {
              "outlinewidth": 0,
              "ticks": ""
             }
            },
            "type": "scattergl"
           }
          ],
          "scattermapbox": [
           {
            "marker": {
             "colorbar": {
              "outlinewidth": 0,
              "ticks": ""
             }
            },
            "type": "scattermapbox"
           }
          ],
          "scatterpolar": [
           {
            "marker": {
             "colorbar": {
              "outlinewidth": 0,
              "ticks": ""
             }
            },
            "type": "scatterpolar"
           }
          ],
          "scatterpolargl": [
           {
            "marker": {
             "colorbar": {
              "outlinewidth": 0,
              "ticks": ""
             }
            },
            "type": "scatterpolargl"
           }
          ],
          "scatterternary": [
           {
            "marker": {
             "colorbar": {
              "outlinewidth": 0,
              "ticks": ""
             }
            },
            "type": "scatterternary"
           }
          ],
          "surface": [
           {
            "colorbar": {
             "outlinewidth": 0,
             "ticks": ""
            },
            "colorscale": [
             [
              0,
              "#0d0887"
             ],
             [
              0.1111111111111111,
              "#46039f"
             ],
             [
              0.2222222222222222,
              "#7201a8"
             ],
             [
              0.3333333333333333,
              "#9c179e"
             ],
             [
              0.4444444444444444,
              "#bd3786"
             ],
             [
              0.5555555555555556,
              "#d8576b"
             ],
             [
              0.6666666666666666,
              "#ed7953"
             ],
             [
              0.7777777777777778,
              "#fb9f3a"
             ],
             [
              0.8888888888888888,
              "#fdca26"
             ],
             [
              1,
              "#f0f921"
             ]
            ],
            "type": "surface"
           }
          ],
          "table": [
           {
            "cells": {
             "fill": {
              "color": "#EBF0F8"
             },
             "line": {
              "color": "white"
             }
            },
            "header": {
             "fill": {
              "color": "#C8D4E3"
             },
             "line": {
              "color": "white"
             }
            },
            "type": "table"
           }
          ]
         },
         "layout": {
          "annotationdefaults": {
           "arrowcolor": "#2a3f5f",
           "arrowhead": 0,
           "arrowwidth": 1
          },
          "coloraxis": {
           "colorbar": {
            "outlinewidth": 0,
            "ticks": ""
           }
          },
          "colorscale": {
           "diverging": [
            [
             0,
             "#8e0152"
            ],
            [
             0.1,
             "#c51b7d"
            ],
            [
             0.2,
             "#de77ae"
            ],
            [
             0.3,
             "#f1b6da"
            ],
            [
             0.4,
             "#fde0ef"
            ],
            [
             0.5,
             "#f7f7f7"
            ],
            [
             0.6,
             "#e6f5d0"
            ],
            [
             0.7,
             "#b8e186"
            ],
            [
             0.8,
             "#7fbc41"
            ],
            [
             0.9,
             "#4d9221"
            ],
            [
             1,
             "#276419"
            ]
           ],
           "sequential": [
            [
             0,
             "#0d0887"
            ],
            [
             0.1111111111111111,
             "#46039f"
            ],
            [
             0.2222222222222222,
             "#7201a8"
            ],
            [
             0.3333333333333333,
             "#9c179e"
            ],
            [
             0.4444444444444444,
             "#bd3786"
            ],
            [
             0.5555555555555556,
             "#d8576b"
            ],
            [
             0.6666666666666666,
             "#ed7953"
            ],
            [
             0.7777777777777778,
             "#fb9f3a"
            ],
            [
             0.8888888888888888,
             "#fdca26"
            ],
            [
             1,
             "#f0f921"
            ]
           ],
           "sequentialminus": [
            [
             0,
             "#0d0887"
            ],
            [
             0.1111111111111111,
             "#46039f"
            ],
            [
             0.2222222222222222,
             "#7201a8"
            ],
            [
             0.3333333333333333,
             "#9c179e"
            ],
            [
             0.4444444444444444,
             "#bd3786"
            ],
            [
             0.5555555555555556,
             "#d8576b"
            ],
            [
             0.6666666666666666,
             "#ed7953"
            ],
            [
             0.7777777777777778,
             "#fb9f3a"
            ],
            [
             0.8888888888888888,
             "#fdca26"
            ],
            [
             1,
             "#f0f921"
            ]
           ]
          },
          "colorway": [
           "#636efa",
           "#EF553B",
           "#00cc96",
           "#ab63fa",
           "#FFA15A",
           "#19d3f3",
           "#FF6692",
           "#B6E880",
           "#FF97FF",
           "#FECB52"
          ],
          "font": {
           "color": "#2a3f5f"
          },
          "geo": {
           "bgcolor": "white",
           "lakecolor": "white",
           "landcolor": "#E5ECF6",
           "showlakes": true,
           "showland": true,
           "subunitcolor": "white"
          },
          "hoverlabel": {
           "align": "left"
          },
          "hovermode": "closest",
          "mapbox": {
           "style": "light"
          },
          "paper_bgcolor": "white",
          "plot_bgcolor": "#E5ECF6",
          "polar": {
           "angularaxis": {
            "gridcolor": "white",
            "linecolor": "white",
            "ticks": ""
           },
           "bgcolor": "#E5ECF6",
           "radialaxis": {
            "gridcolor": "white",
            "linecolor": "white",
            "ticks": ""
           }
          },
          "scene": {
           "xaxis": {
            "backgroundcolor": "#E5ECF6",
            "gridcolor": "white",
            "gridwidth": 2,
            "linecolor": "white",
            "showbackground": true,
            "ticks": "",
            "zerolinecolor": "white"
           },
           "yaxis": {
            "backgroundcolor": "#E5ECF6",
            "gridcolor": "white",
            "gridwidth": 2,
            "linecolor": "white",
            "showbackground": true,
            "ticks": "",
            "zerolinecolor": "white"
           },
           "zaxis": {
            "backgroundcolor": "#E5ECF6",
            "gridcolor": "white",
            "gridwidth": 2,
            "linecolor": "white",
            "showbackground": true,
            "ticks": "",
            "zerolinecolor": "white"
           }
          },
          "shapedefaults": {
           "line": {
            "color": "#2a3f5f"
           }
          },
          "ternary": {
           "aaxis": {
            "gridcolor": "white",
            "linecolor": "white",
            "ticks": ""
           },
           "baxis": {
            "gridcolor": "white",
            "linecolor": "white",
            "ticks": ""
           },
           "bgcolor": "#E5ECF6",
           "caxis": {
            "gridcolor": "white",
            "linecolor": "white",
            "ticks": ""
           }
          },
          "title": {
           "x": 0.05
          },
          "xaxis": {
           "automargin": true,
           "gridcolor": "white",
           "linecolor": "white",
           "ticks": "",
           "title": {
            "standoff": 15
           },
           "zerolinecolor": "white",
           "zerolinewidth": 2
          },
          "yaxis": {
           "automargin": true,
           "gridcolor": "white",
           "linecolor": "white",
           "ticks": "",
           "title": {
            "standoff": 15
           },
           "zerolinecolor": "white",
           "zerolinewidth": 2
          }
         }
        }
       }
      }
     },
     "metadata": {},
     "output_type": "display_data"
    }
   ],
   "source": [
    "import plotly.graph_objects as go\n",
    "\n",
    "fig = go.Figure()\n",
    "\n",
    "for i in tickers:\n",
    "    data_metrics = key_metrics_annually_total[key_metrics_annually_total[\"Company\"]==i]\n",
    "\n",
    "    fig.add_trace(go.Scatter(x=data_metrics.index, \n",
    "                            y=data_metrics.peRatio,\n",
    "                        mode='lines+markers',\n",
    "                        name=i))\n",
    "fig.show()"
   ]
  },
  {
   "cell_type": "code",
   "execution_count": 40,
   "metadata": {},
   "outputs": [
    {
     "data": {
      "application/vnd.plotly.v1+json": {
       "config": {
        "plotlyServerURL": "https://plot.ly"
       },
       "data": [
        {
         "name": "Revenue",
         "type": "bar",
         "x": [
          "2022",
          "2021",
          "2020",
          "2019",
          "2018",
          "2017",
          "2016",
          "2015",
          "2014",
          "2013",
          "2012",
          "2011",
          "2010",
          "2009",
          "2008",
          "2007",
          "2006",
          "2005",
          "2004",
          "2003",
          "2002",
          "2001",
          "2000",
          "1999",
          "1998",
          "1997",
          "1996",
          "1995"
         ],
         "xaxis": "x",
         "y": [
          21173400000,
          18611000000,
          13978500000,
          11820000000,
          10944000000,
          9052800000,
          6794752000,
          6287375000,
          5856277000,
          5245326000,
          4731555000,
          5651035000,
          4507938000,
          1596063000,
          2960682847.08,
          3814681368.18,
          3597101452.02,
          2527046847.92,
          2463556128,
          1540044211.87,
          1957377508.72,
          1847572046.89,
          2160781226.52,
          1197516950,
          774641610,
          808453737,
          619395023,
          446342493
         ],
         "yaxis": "y2"
        },
        {
         "name": "NetIncome",
         "type": "bar",
         "x": [
          "2022",
          "2021",
          "2020",
          "2019",
          "2018",
          "2017",
          "2016",
          "2015",
          "2014",
          "2013",
          "2012",
          "2011",
          "2010",
          "2009",
          "2008",
          "2007",
          "2006",
          "2005",
          "2004",
          "2003",
          "2002",
          "2001",
          "2000",
          "1999",
          "1998",
          "1997",
          "1996",
          "1995"
         ],
         "xaxis": "x",
         "y": [
          5486200000,
          5883200000,
          3553700000,
          2574100000,
          2585400000,
          2135200000,
          1471894000,
          1387174000,
          1196640000,
          1015490000,
          1146316000,
          1466960000,
          1021820000,
          -150925000,
          323134473.9,
          688926922.59,
          624688885.85,
          311227863.58,
          235285986.72,
          -159936698.72,
          -207684563.98,
          -479826400.66,
          345439986.64,
          80795127,
          61647318,
          147545307,
          101317567,
          63952620
         ],
         "yaxis": "y2"
        },
        {
         "name": "Ebitda",
         "type": "bar",
         "x": [
          "2022",
          "2021",
          "2020",
          "2019",
          "2018",
          "2017",
          "2016",
          "2015",
          "2014",
          "2013",
          "2012",
          "2011",
          "2010",
          "2009",
          "2008",
          "2007",
          "2006",
          "2005",
          "2004",
          "2003",
          "2002",
          "2001",
          "2000",
          "1999",
          "1998",
          "1997",
          "1996",
          "1995"
         ],
         "xaxis": "x",
         "y": [
          6995100000,
          7430200000,
          4639400000,
          3250900000,
          3401500000,
          2813100000,
          2081950000,
          1828989000,
          1540192000,
          1280262000,
          1359979000,
          1847557000,
          1417268000,
          17954000,
          429851064.29999995,
          986734420.07,
          956889731.76,
          525154909.83,
          452720117.44,
          -74959608.12,
          -84510332.56999998,
          -539359913.36,
          557790667.5,
          160894601,
          123294636,
          234636129,
          165514820,
          107705571
         ],
         "yaxis": "y2"
        },
        {
         "mode": "lines+markers",
         "name": "Enterprise Value",
         "type": "scatter",
         "x": [
          "2022",
          "2021",
          "2020",
          "2019",
          "2018",
          "2017",
          "2016",
          "2015",
          "2014",
          "2013",
          "2012",
          "2011",
          "2010",
          "2009",
          "2008",
          "2007",
          "2006",
          "2005",
          "2004",
          "2003",
          "2002",
          "2001",
          "2000",
          "1999",
          "1998",
          "1997",
          "1996",
          "1995"
         ],
         "xaxis": "x",
         "y": [
          205270291120,
          285718265876,
          166266508889.2,
          110747807101.44,
          57665108801.76,
          62931437413.96,
          45567190792,
          33845790399.64,
          37840937445.7118,
          28039094758.520004,
          19581974446,
          11732970090.95586,
          11301718475.864813,
          9919722756.304028,
          5185936704.001446,
          9239853568.294598,
          7580743197.522526,
          6688487529.5291,
          5262476038.410899,
          7512394202.533085,
          2042492833.2487147,
          3867597528.394673,
          3962145681.4973745,
          6629463226.466245,
          2105901453.1985245,
          2115034978.9113588,
          714012680.8216872,
          472043259.3500848
         ],
         "yaxis": "y"
        }
       ],
       "layout": {
        "template": {
         "data": {
          "bar": [
           {
            "error_x": {
             "color": "#2a3f5f"
            },
            "error_y": {
             "color": "#2a3f5f"
            },
            "marker": {
             "line": {
              "color": "#E5ECF6",
              "width": 0.5
             }
            },
            "type": "bar"
           }
          ],
          "barpolar": [
           {
            "marker": {
             "line": {
              "color": "#E5ECF6",
              "width": 0.5
             }
            },
            "type": "barpolar"
           }
          ],
          "carpet": [
           {
            "aaxis": {
             "endlinecolor": "#2a3f5f",
             "gridcolor": "white",
             "linecolor": "white",
             "minorgridcolor": "white",
             "startlinecolor": "#2a3f5f"
            },
            "baxis": {
             "endlinecolor": "#2a3f5f",
             "gridcolor": "white",
             "linecolor": "white",
             "minorgridcolor": "white",
             "startlinecolor": "#2a3f5f"
            },
            "type": "carpet"
           }
          ],
          "choropleth": [
           {
            "colorbar": {
             "outlinewidth": 0,
             "ticks": ""
            },
            "type": "choropleth"
           }
          ],
          "contour": [
           {
            "colorbar": {
             "outlinewidth": 0,
             "ticks": ""
            },
            "colorscale": [
             [
              0,
              "#0d0887"
             ],
             [
              0.1111111111111111,
              "#46039f"
             ],
             [
              0.2222222222222222,
              "#7201a8"
             ],
             [
              0.3333333333333333,
              "#9c179e"
             ],
             [
              0.4444444444444444,
              "#bd3786"
             ],
             [
              0.5555555555555556,
              "#d8576b"
             ],
             [
              0.6666666666666666,
              "#ed7953"
             ],
             [
              0.7777777777777778,
              "#fb9f3a"
             ],
             [
              0.8888888888888888,
              "#fdca26"
             ],
             [
              1,
              "#f0f921"
             ]
            ],
            "type": "contour"
           }
          ],
          "contourcarpet": [
           {
            "colorbar": {
             "outlinewidth": 0,
             "ticks": ""
            },
            "type": "contourcarpet"
           }
          ],
          "heatmap": [
           {
            "colorbar": {
             "outlinewidth": 0,
             "ticks": ""
            },
            "colorscale": [
             [
              0,
              "#0d0887"
             ],
             [
              0.1111111111111111,
              "#46039f"
             ],
             [
              0.2222222222222222,
              "#7201a8"
             ],
             [
              0.3333333333333333,
              "#9c179e"
             ],
             [
              0.4444444444444444,
              "#bd3786"
             ],
             [
              0.5555555555555556,
              "#d8576b"
             ],
             [
              0.6666666666666666,
              "#ed7953"
             ],
             [
              0.7777777777777778,
              "#fb9f3a"
             ],
             [
              0.8888888888888888,
              "#fdca26"
             ],
             [
              1,
              "#f0f921"
             ]
            ],
            "type": "heatmap"
           }
          ],
          "heatmapgl": [
           {
            "colorbar": {
             "outlinewidth": 0,
             "ticks": ""
            },
            "colorscale": [
             [
              0,
              "#0d0887"
             ],
             [
              0.1111111111111111,
              "#46039f"
             ],
             [
              0.2222222222222222,
              "#7201a8"
             ],
             [
              0.3333333333333333,
              "#9c179e"
             ],
             [
              0.4444444444444444,
              "#bd3786"
             ],
             [
              0.5555555555555556,
              "#d8576b"
             ],
             [
              0.6666666666666666,
              "#ed7953"
             ],
             [
              0.7777777777777778,
              "#fb9f3a"
             ],
             [
              0.8888888888888888,
              "#fdca26"
             ],
             [
              1,
              "#f0f921"
             ]
            ],
            "type": "heatmapgl"
           }
          ],
          "histogram": [
           {
            "marker": {
             "colorbar": {
              "outlinewidth": 0,
              "ticks": ""
             }
            },
            "type": "histogram"
           }
          ],
          "histogram2d": [
           {
            "colorbar": {
             "outlinewidth": 0,
             "ticks": ""
            },
            "colorscale": [
             [
              0,
              "#0d0887"
             ],
             [
              0.1111111111111111,
              "#46039f"
             ],
             [
              0.2222222222222222,
              "#7201a8"
             ],
             [
              0.3333333333333333,
              "#9c179e"
             ],
             [
              0.4444444444444444,
              "#bd3786"
             ],
             [
              0.5555555555555556,
              "#d8576b"
             ],
             [
              0.6666666666666666,
              "#ed7953"
             ],
             [
              0.7777777777777778,
              "#fb9f3a"
             ],
             [
              0.8888888888888888,
              "#fdca26"
             ],
             [
              1,
              "#f0f921"
             ]
            ],
            "type": "histogram2d"
           }
          ],
          "histogram2dcontour": [
           {
            "colorbar": {
             "outlinewidth": 0,
             "ticks": ""
            },
            "colorscale": [
             [
              0,
              "#0d0887"
             ],
             [
              0.1111111111111111,
              "#46039f"
             ],
             [
              0.2222222222222222,
              "#7201a8"
             ],
             [
              0.3333333333333333,
              "#9c179e"
             ],
             [
              0.4444444444444444,
              "#bd3786"
             ],
             [
              0.5555555555555556,
              "#d8576b"
             ],
             [
              0.6666666666666666,
              "#ed7953"
             ],
             [
              0.7777777777777778,
              "#fb9f3a"
             ],
             [
              0.8888888888888888,
              "#fdca26"
             ],
             [
              1,
              "#f0f921"
             ]
            ],
            "type": "histogram2dcontour"
           }
          ],
          "mesh3d": [
           {
            "colorbar": {
             "outlinewidth": 0,
             "ticks": ""
            },
            "type": "mesh3d"
           }
          ],
          "parcoords": [
           {
            "line": {
             "colorbar": {
              "outlinewidth": 0,
              "ticks": ""
             }
            },
            "type": "parcoords"
           }
          ],
          "pie": [
           {
            "automargin": true,
            "type": "pie"
           }
          ],
          "scatter": [
           {
            "marker": {
             "colorbar": {
              "outlinewidth": 0,
              "ticks": ""
             }
            },
            "type": "scatter"
           }
          ],
          "scatter3d": [
           {
            "line": {
             "colorbar": {
              "outlinewidth": 0,
              "ticks": ""
             }
            },
            "marker": {
             "colorbar": {
              "outlinewidth": 0,
              "ticks": ""
             }
            },
            "type": "scatter3d"
           }
          ],
          "scattercarpet": [
           {
            "marker": {
             "colorbar": {
              "outlinewidth": 0,
              "ticks": ""
             }
            },
            "type": "scattercarpet"
           }
          ],
          "scattergeo": [
           {
            "marker": {
             "colorbar": {
              "outlinewidth": 0,
              "ticks": ""
             }
            },
            "type": "scattergeo"
           }
          ],
          "scattergl": [
           {
            "marker": {
             "colorbar": {
              "outlinewidth": 0,
              "ticks": ""
             }
            },
            "type": "scattergl"
           }
          ],
          "scattermapbox": [
           {
            "marker": {
             "colorbar": {
              "outlinewidth": 0,
              "ticks": ""
             }
            },
            "type": "scattermapbox"
           }
          ],
          "scatterpolar": [
           {
            "marker": {
             "colorbar": {
              "outlinewidth": 0,
              "ticks": ""
             }
            },
            "type": "scatterpolar"
           }
          ],
          "scatterpolargl": [
           {
            "marker": {
             "colorbar": {
              "outlinewidth": 0,
              "ticks": ""
             }
            },
            "type": "scatterpolargl"
           }
          ],
          "scatterternary": [
           {
            "marker": {
             "colorbar": {
              "outlinewidth": 0,
              "ticks": ""
             }
            },
            "type": "scatterternary"
           }
          ],
          "surface": [
           {
            "colorbar": {
             "outlinewidth": 0,
             "ticks": ""
            },
            "colorscale": [
             [
              0,
              "#0d0887"
             ],
             [
              0.1111111111111111,
              "#46039f"
             ],
             [
              0.2222222222222222,
              "#7201a8"
             ],
             [
              0.3333333333333333,
              "#9c179e"
             ],
             [
              0.4444444444444444,
              "#bd3786"
             ],
             [
              0.5555555555555556,
              "#d8576b"
             ],
             [
              0.6666666666666666,
              "#ed7953"
             ],
             [
              0.7777777777777778,
              "#fb9f3a"
             ],
             [
              0.8888888888888888,
              "#fdca26"
             ],
             [
              1,
              "#f0f921"
             ]
            ],
            "type": "surface"
           }
          ],
          "table": [
           {
            "cells": {
             "fill": {
              "color": "#EBF0F8"
             },
             "line": {
              "color": "white"
             }
            },
            "header": {
             "fill": {
              "color": "#C8D4E3"
             },
             "line": {
              "color": "white"
             }
            },
            "type": "table"
           }
          ]
         },
         "layout": {
          "annotationdefaults": {
           "arrowcolor": "#2a3f5f",
           "arrowhead": 0,
           "arrowwidth": 1
          },
          "coloraxis": {
           "colorbar": {
            "outlinewidth": 0,
            "ticks": ""
           }
          },
          "colorscale": {
           "diverging": [
            [
             0,
             "#8e0152"
            ],
            [
             0.1,
             "#c51b7d"
            ],
            [
             0.2,
             "#de77ae"
            ],
            [
             0.3,
             "#f1b6da"
            ],
            [
             0.4,
             "#fde0ef"
            ],
            [
             0.5,
             "#f7f7f7"
            ],
            [
             0.6,
             "#e6f5d0"
            ],
            [
             0.7,
             "#b8e186"
            ],
            [
             0.8,
             "#7fbc41"
            ],
            [
             0.9,
             "#4d9221"
            ],
            [
             1,
             "#276419"
            ]
           ],
           "sequential": [
            [
             0,
             "#0d0887"
            ],
            [
             0.1111111111111111,
             "#46039f"
            ],
            [
             0.2222222222222222,
             "#7201a8"
            ],
            [
             0.3333333333333333,
             "#9c179e"
            ],
            [
             0.4444444444444444,
             "#bd3786"
            ],
            [
             0.5555555555555556,
             "#d8576b"
            ],
            [
             0.6666666666666666,
             "#ed7953"
            ],
            [
             0.7777777777777778,
             "#fb9f3a"
            ],
            [
             0.8888888888888888,
             "#fdca26"
            ],
            [
             1,
             "#f0f921"
            ]
           ],
           "sequentialminus": [
            [
             0,
             "#0d0887"
            ],
            [
             0.1111111111111111,
             "#46039f"
            ],
            [
             0.2222222222222222,
             "#7201a8"
            ],
            [
             0.3333333333333333,
             "#9c179e"
            ],
            [
             0.4444444444444444,
             "#bd3786"
            ],
            [
             0.5555555555555556,
             "#d8576b"
            ],
            [
             0.6666666666666666,
             "#ed7953"
            ],
            [
             0.7777777777777778,
             "#fb9f3a"
            ],
            [
             0.8888888888888888,
             "#fdca26"
            ],
            [
             1,
             "#f0f921"
            ]
           ]
          },
          "colorway": [
           "#636efa",
           "#EF553B",
           "#00cc96",
           "#ab63fa",
           "#FFA15A",
           "#19d3f3",
           "#FF6692",
           "#B6E880",
           "#FF97FF",
           "#FECB52"
          ],
          "font": {
           "color": "#2a3f5f"
          },
          "geo": {
           "bgcolor": "white",
           "lakecolor": "white",
           "landcolor": "#E5ECF6",
           "showlakes": true,
           "showland": true,
           "subunitcolor": "white"
          },
          "hoverlabel": {
           "align": "left"
          },
          "hovermode": "closest",
          "mapbox": {
           "style": "light"
          },
          "paper_bgcolor": "white",
          "plot_bgcolor": "#E5ECF6",
          "polar": {
           "angularaxis": {
            "gridcolor": "white",
            "linecolor": "white",
            "ticks": ""
           },
           "bgcolor": "#E5ECF6",
           "radialaxis": {
            "gridcolor": "white",
            "linecolor": "white",
            "ticks": ""
           }
          },
          "scene": {
           "xaxis": {
            "backgroundcolor": "#E5ECF6",
            "gridcolor": "white",
            "gridwidth": 2,
            "linecolor": "white",
            "showbackground": true,
            "ticks": "",
            "zerolinecolor": "white"
           },
           "yaxis": {
            "backgroundcolor": "#E5ECF6",
            "gridcolor": "white",
            "gridwidth": 2,
            "linecolor": "white",
            "showbackground": true,
            "ticks": "",
            "zerolinecolor": "white"
           },
           "zaxis": {
            "backgroundcolor": "#E5ECF6",
            "gridcolor": "white",
            "gridwidth": 2,
            "linecolor": "white",
            "showbackground": true,
            "ticks": "",
            "zerolinecolor": "white"
           }
          },
          "shapedefaults": {
           "line": {
            "color": "#2a3f5f"
           }
          },
          "ternary": {
           "aaxis": {
            "gridcolor": "white",
            "linecolor": "white",
            "ticks": ""
           },
           "baxis": {
            "gridcolor": "white",
            "linecolor": "white",
            "ticks": ""
           },
           "bgcolor": "#E5ECF6",
           "caxis": {
            "gridcolor": "white",
            "linecolor": "white",
            "ticks": ""
           }
          },
          "title": {
           "x": 0.05
          },
          "xaxis": {
           "automargin": true,
           "gridcolor": "white",
           "linecolor": "white",
           "ticks": "",
           "title": {
            "standoff": 15
           },
           "zerolinecolor": "white",
           "zerolinewidth": 2
          },
          "yaxis": {
           "automargin": true,
           "gridcolor": "white",
           "linecolor": "white",
           "ticks": "",
           "title": {
            "standoff": 15
           },
           "zerolinecolor": "white",
           "zerolinewidth": 2
          }
         }
        },
        "xaxis": {
         "anchor": "y",
         "domain": [
          0,
          0.94
         ]
        },
        "yaxis": {
         "anchor": "x",
         "domain": [
          0,
          1
         ]
        },
        "yaxis2": {
         "anchor": "x",
         "overlaying": "y",
         "side": "right"
        }
       }
      }
     },
     "metadata": {},
     "output_type": "display_data"
    }
   ],
   "source": [
    "import plotly.graph_objects as go\n",
    "\n",
    "from plotly.subplots import make_subplots\n",
    "\n",
    "# Create figure with secondary y-axis\n",
    "fig = make_subplots(specs=[[{\"secondary_y\": True}]])\n",
    "\n",
    "fig.add_trace(go.Bar(x=income_statement_annually_t.index, y=income_statement_annually_t.revenue,\n",
    "                    name='Revenue'), secondary_y=True)\n",
    "\n",
    "fig.add_trace(go.Bar(x=income_statement_annually_t.index, y=income_statement_annually_t.netIncome,\n",
    "                    name='NetIncome'), secondary_y=True)\n",
    "\n",
    "fig.add_trace(go.Bar(x=income_statement_annually_t.index, y=income_statement_annually_t.ebitda,\n",
    "                    name='Ebitda'), secondary_y=True)\n",
    "\n",
    "fig.add_trace(go.Scatter(x=key_metrics_annually_t.index, y=key_metrics_annually_t.enterpriseValue,\n",
    "                    mode='lines+markers',\n",
    "                    name='Enterprise Value'), secondary_y=False)\n",
    "\n",
    "fig.show()"
   ]
  },
  {
   "cell_type": "code",
   "execution_count": 45,
   "metadata": {},
   "outputs": [
    {
     "data": {
      "application/vnd.plotly.v1+json": {
       "config": {
        "plotlyServerURL": "https://plot.ly"
       },
       "data": [
        {
         "name": "Debts",
         "type": "bar",
         "x": [
          "2022",
          "2021",
          "2020",
          "2019",
          "2018",
          "2017",
          "2016",
          "2015",
          "2014",
          "2013",
          "2012",
          "2011",
          "2010",
          "2009",
          "2008",
          "2007",
          "2006",
          "2005",
          "2004",
          "2003",
          "2002",
          "2001",
          "2000",
          "1999",
          "1998",
          "1997",
          "1996",
          "1995"
         ],
         "xaxis": "x",
         "y": [
          3514200000,
          4584100000,
          4678200000,
          3108300000,
          3026500000,
          3025300000,
          3319465000,
          1129685000,
          1154137000,
          1074570000,
          759490000,
          736368000,
          710060000,
          663102000,
          718788962.5,
          604172594.95,
          388838173.41,
          382267262.67,
          816729051.12,
          858563994.22,
          1083774662.2,
          1538105676.21,
          819296135.2,
          789069260,
          270719550,
          0,
          0,
          8812983
         ],
         "yaxis": "y2"
        },
        {
         "mode": "lines+markers",
         "name": "Market Capitalization",
         "type": "scatter",
         "x": [
          "2022",
          "2021",
          "2020",
          "2019",
          "2018",
          "2017",
          "2016",
          "2015",
          "2014",
          "2013",
          "2012",
          "2011",
          "2010",
          "2009",
          "2008",
          "2007",
          "2006",
          "2005",
          "2004",
          "2003",
          "2002",
          "2001",
          "2000",
          "1999",
          "1998",
          "1997",
          "1996",
          "1995"
         ],
         "xaxis": "x",
         "y": [
          266497037016.47998,
          264308693992.86,
          223439116747.73,
          123875106061.92001,
          75288032019.76,
          86058852151.86,
          51799775616.96,
          39546302406.78,
          45436540529.1408,
          36629298561.218,
          31900802508.92,
          14075825949.180687,
          14097936763.0486,
          10409798437.5,
          5497026295.112659,
          9467439237.010523,
          9258061841.574198,
          8584648140.108325,
          5944076083.211602,
          7151716373.741735,
          2930151187.6874995,
          6672133422.287452,
          9125328527.929688,
          12538516649.625,
          5710370963.0625,
          4175713707.9375,
          2026110301.03125,
          1247297026.716146
         ],
         "yaxis": "y"
        }
       ],
       "layout": {
        "template": {
         "data": {
          "bar": [
           {
            "error_x": {
             "color": "#2a3f5f"
            },
            "error_y": {
             "color": "#2a3f5f"
            },
            "marker": {
             "line": {
              "color": "#E5ECF6",
              "width": 0.5
             }
            },
            "type": "bar"
           }
          ],
          "barpolar": [
           {
            "marker": {
             "line": {
              "color": "#E5ECF6",
              "width": 0.5
             }
            },
            "type": "barpolar"
           }
          ],
          "carpet": [
           {
            "aaxis": {
             "endlinecolor": "#2a3f5f",
             "gridcolor": "white",
             "linecolor": "white",
             "minorgridcolor": "white",
             "startlinecolor": "#2a3f5f"
            },
            "baxis": {
             "endlinecolor": "#2a3f5f",
             "gridcolor": "white",
             "linecolor": "white",
             "minorgridcolor": "white",
             "startlinecolor": "#2a3f5f"
            },
            "type": "carpet"
           }
          ],
          "choropleth": [
           {
            "colorbar": {
             "outlinewidth": 0,
             "ticks": ""
            },
            "type": "choropleth"
           }
          ],
          "contour": [
           {
            "colorbar": {
             "outlinewidth": 0,
             "ticks": ""
            },
            "colorscale": [
             [
              0,
              "#0d0887"
             ],
             [
              0.1111111111111111,
              "#46039f"
             ],
             [
              0.2222222222222222,
              "#7201a8"
             ],
             [
              0.3333333333333333,
              "#9c179e"
             ],
             [
              0.4444444444444444,
              "#bd3786"
             ],
             [
              0.5555555555555556,
              "#d8576b"
             ],
             [
              0.6666666666666666,
              "#ed7953"
             ],
             [
              0.7777777777777778,
              "#fb9f3a"
             ],
             [
              0.8888888888888888,
              "#fdca26"
             ],
             [
              1,
              "#f0f921"
             ]
            ],
            "type": "contour"
           }
          ],
          "contourcarpet": [
           {
            "colorbar": {
             "outlinewidth": 0,
             "ticks": ""
            },
            "type": "contourcarpet"
           }
          ],
          "heatmap": [
           {
            "colorbar": {
             "outlinewidth": 0,
             "ticks": ""
            },
            "colorscale": [
             [
              0,
              "#0d0887"
             ],
             [
              0.1111111111111111,
              "#46039f"
             ],
             [
              0.2222222222222222,
              "#7201a8"
             ],
             [
              0.3333333333333333,
              "#9c179e"
             ],
             [
              0.4444444444444444,
              "#bd3786"
             ],
             [
              0.5555555555555556,
              "#d8576b"
             ],
             [
              0.6666666666666666,
              "#ed7953"
             ],
             [
              0.7777777777777778,
              "#fb9f3a"
             ],
             [
              0.8888888888888888,
              "#fdca26"
             ],
             [
              1,
              "#f0f921"
             ]
            ],
            "type": "heatmap"
           }
          ],
          "heatmapgl": [
           {
            "colorbar": {
             "outlinewidth": 0,
             "ticks": ""
            },
            "colorscale": [
             [
              0,
              "#0d0887"
             ],
             [
              0.1111111111111111,
              "#46039f"
             ],
             [
              0.2222222222222222,
              "#7201a8"
             ],
             [
              0.3333333333333333,
              "#9c179e"
             ],
             [
              0.4444444444444444,
              "#bd3786"
             ],
             [
              0.5555555555555556,
              "#d8576b"
             ],
             [
              0.6666666666666666,
              "#ed7953"
             ],
             [
              0.7777777777777778,
              "#fb9f3a"
             ],
             [
              0.8888888888888888,
              "#fdca26"
             ],
             [
              1,
              "#f0f921"
             ]
            ],
            "type": "heatmapgl"
           }
          ],
          "histogram": [
           {
            "marker": {
             "colorbar": {
              "outlinewidth": 0,
              "ticks": ""
             }
            },
            "type": "histogram"
           }
          ],
          "histogram2d": [
           {
            "colorbar": {
             "outlinewidth": 0,
             "ticks": ""
            },
            "colorscale": [
             [
              0,
              "#0d0887"
             ],
             [
              0.1111111111111111,
              "#46039f"
             ],
             [
              0.2222222222222222,
              "#7201a8"
             ],
             [
              0.3333333333333333,
              "#9c179e"
             ],
             [
              0.4444444444444444,
              "#bd3786"
             ],
             [
              0.5555555555555556,
              "#d8576b"
             ],
             [
              0.6666666666666666,
              "#ed7953"
             ],
             [
              0.7777777777777778,
              "#fb9f3a"
             ],
             [
              0.8888888888888888,
              "#fdca26"
             ],
             [
              1,
              "#f0f921"
             ]
            ],
            "type": "histogram2d"
           }
          ],
          "histogram2dcontour": [
           {
            "colorbar": {
             "outlinewidth": 0,
             "ticks": ""
            },
            "colorscale": [
             [
              0,
              "#0d0887"
             ],
             [
              0.1111111111111111,
              "#46039f"
             ],
             [
              0.2222222222222222,
              "#7201a8"
             ],
             [
              0.3333333333333333,
              "#9c179e"
             ],
             [
              0.4444444444444444,
              "#bd3786"
             ],
             [
              0.5555555555555556,
              "#d8576b"
             ],
             [
              0.6666666666666666,
              "#ed7953"
             ],
             [
              0.7777777777777778,
              "#fb9f3a"
             ],
             [
              0.8888888888888888,
              "#fdca26"
             ],
             [
              1,
              "#f0f921"
             ]
            ],
            "type": "histogram2dcontour"
           }
          ],
          "mesh3d": [
           {
            "colorbar": {
             "outlinewidth": 0,
             "ticks": ""
            },
            "type": "mesh3d"
           }
          ],
          "parcoords": [
           {
            "line": {
             "colorbar": {
              "outlinewidth": 0,
              "ticks": ""
             }
            },
            "type": "parcoords"
           }
          ],
          "pie": [
           {
            "automargin": true,
            "type": "pie"
           }
          ],
          "scatter": [
           {
            "marker": {
             "colorbar": {
              "outlinewidth": 0,
              "ticks": ""
             }
            },
            "type": "scatter"
           }
          ],
          "scatter3d": [
           {
            "line": {
             "colorbar": {
              "outlinewidth": 0,
              "ticks": ""
             }
            },
            "marker": {
             "colorbar": {
              "outlinewidth": 0,
              "ticks": ""
             }
            },
            "type": "scatter3d"
           }
          ],
          "scattercarpet": [
           {
            "marker": {
             "colorbar": {
              "outlinewidth": 0,
              "ticks": ""
             }
            },
            "type": "scattercarpet"
           }
          ],
          "scattergeo": [
           {
            "marker": {
             "colorbar": {
              "outlinewidth": 0,
              "ticks": ""
             }
            },
            "type": "scattergeo"
           }
          ],
          "scattergl": [
           {
            "marker": {
             "colorbar": {
              "outlinewidth": 0,
              "ticks": ""
             }
            },
            "type": "scattergl"
           }
          ],
          "scattermapbox": [
           {
            "marker": {
             "colorbar": {
              "outlinewidth": 0,
              "ticks": ""
             }
            },
            "type": "scattermapbox"
           }
          ],
          "scatterpolar": [
           {
            "marker": {
             "colorbar": {
              "outlinewidth": 0,
              "ticks": ""
             }
            },
            "type": "scatterpolar"
           }
          ],
          "scatterpolargl": [
           {
            "marker": {
             "colorbar": {
              "outlinewidth": 0,
              "ticks": ""
             }
            },
            "type": "scatterpolargl"
           }
          ],
          "scatterternary": [
           {
            "marker": {
             "colorbar": {
              "outlinewidth": 0,
              "ticks": ""
             }
            },
            "type": "scatterternary"
           }
          ],
          "surface": [
           {
            "colorbar": {
             "outlinewidth": 0,
             "ticks": ""
            },
            "colorscale": [
             [
              0,
              "#0d0887"
             ],
             [
              0.1111111111111111,
              "#46039f"
             ],
             [
              0.2222222222222222,
              "#7201a8"
             ],
             [
              0.3333333333333333,
              "#9c179e"
             ],
             [
              0.4444444444444444,
              "#bd3786"
             ],
             [
              0.5555555555555556,
              "#d8576b"
             ],
             [
              0.6666666666666666,
              "#ed7953"
             ],
             [
              0.7777777777777778,
              "#fb9f3a"
             ],
             [
              0.8888888888888888,
              "#fdca26"
             ],
             [
              1,
              "#f0f921"
             ]
            ],
            "type": "surface"
           }
          ],
          "table": [
           {
            "cells": {
             "fill": {
              "color": "#EBF0F8"
             },
             "line": {
              "color": "white"
             }
            },
            "header": {
             "fill": {
              "color": "#C8D4E3"
             },
             "line": {
              "color": "white"
             }
            },
            "type": "table"
           }
          ]
         },
         "layout": {
          "annotationdefaults": {
           "arrowcolor": "#2a3f5f",
           "arrowhead": 0,
           "arrowwidth": 1
          },
          "coloraxis": {
           "colorbar": {
            "outlinewidth": 0,
            "ticks": ""
           }
          },
          "colorscale": {
           "diverging": [
            [
             0,
             "#8e0152"
            ],
            [
             0.1,
             "#c51b7d"
            ],
            [
             0.2,
             "#de77ae"
            ],
            [
             0.3,
             "#f1b6da"
            ],
            [
             0.4,
             "#fde0ef"
            ],
            [
             0.5,
             "#f7f7f7"
            ],
            [
             0.6,
             "#e6f5d0"
            ],
            [
             0.7,
             "#b8e186"
            ],
            [
             0.8,
             "#7fbc41"
            ],
            [
             0.9,
             "#4d9221"
            ],
            [
             1,
             "#276419"
            ]
           ],
           "sequential": [
            [
             0,
             "#0d0887"
            ],
            [
             0.1111111111111111,
             "#46039f"
            ],
            [
             0.2222222222222222,
             "#7201a8"
            ],
            [
             0.3333333333333333,
             "#9c179e"
            ],
            [
             0.4444444444444444,
             "#bd3786"
            ],
            [
             0.5555555555555556,
             "#d8576b"
            ],
            [
             0.6666666666666666,
             "#ed7953"
            ],
            [
             0.7777777777777778,
             "#fb9f3a"
            ],
            [
             0.8888888888888888,
             "#fdca26"
            ],
            [
             1,
             "#f0f921"
            ]
           ],
           "sequentialminus": [
            [
             0,
             "#0d0887"
            ],
            [
             0.1111111111111111,
             "#46039f"
            ],
            [
             0.2222222222222222,
             "#7201a8"
            ],
            [
             0.3333333333333333,
             "#9c179e"
            ],
            [
             0.4444444444444444,
             "#bd3786"
            ],
            [
             0.5555555555555556,
             "#d8576b"
            ],
            [
             0.6666666666666666,
             "#ed7953"
            ],
            [
             0.7777777777777778,
             "#fb9f3a"
            ],
            [
             0.8888888888888888,
             "#fdca26"
            ],
            [
             1,
             "#f0f921"
            ]
           ]
          },
          "colorway": [
           "#636efa",
           "#EF553B",
           "#00cc96",
           "#ab63fa",
           "#FFA15A",
           "#19d3f3",
           "#FF6692",
           "#B6E880",
           "#FF97FF",
           "#FECB52"
          ],
          "font": {
           "color": "#2a3f5f"
          },
          "geo": {
           "bgcolor": "white",
           "lakecolor": "white",
           "landcolor": "#E5ECF6",
           "showlakes": true,
           "showland": true,
           "subunitcolor": "white"
          },
          "hoverlabel": {
           "align": "left"
          },
          "hovermode": "closest",
          "mapbox": {
           "style": "light"
          },
          "paper_bgcolor": "white",
          "plot_bgcolor": "#E5ECF6",
          "polar": {
           "angularaxis": {
            "gridcolor": "white",
            "linecolor": "white",
            "ticks": ""
           },
           "bgcolor": "#E5ECF6",
           "radialaxis": {
            "gridcolor": "white",
            "linecolor": "white",
            "ticks": ""
           }
          },
          "scene": {
           "xaxis": {
            "backgroundcolor": "#E5ECF6",
            "gridcolor": "white",
            "gridwidth": 2,
            "linecolor": "white",
            "showbackground": true,
            "ticks": "",
            "zerolinecolor": "white"
           },
           "yaxis": {
            "backgroundcolor": "#E5ECF6",
            "gridcolor": "white",
            "gridwidth": 2,
            "linecolor": "white",
            "showbackground": true,
            "ticks": "",
            "zerolinecolor": "white"
           },
           "zaxis": {
            "backgroundcolor": "#E5ECF6",
            "gridcolor": "white",
            "gridwidth": 2,
            "linecolor": "white",
            "showbackground": true,
            "ticks": "",
            "zerolinecolor": "white"
           }
          },
          "shapedefaults": {
           "line": {
            "color": "#2a3f5f"
           }
          },
          "ternary": {
           "aaxis": {
            "gridcolor": "white",
            "linecolor": "white",
            "ticks": ""
           },
           "baxis": {
            "gridcolor": "white",
            "linecolor": "white",
            "ticks": ""
           },
           "bgcolor": "#E5ECF6",
           "caxis": {
            "gridcolor": "white",
            "linecolor": "white",
            "ticks": ""
           }
          },
          "title": {
           "x": 0.05
          },
          "xaxis": {
           "automargin": true,
           "gridcolor": "white",
           "linecolor": "white",
           "ticks": "",
           "title": {
            "standoff": 15
           },
           "zerolinecolor": "white",
           "zerolinewidth": 2
          },
          "yaxis": {
           "automargin": true,
           "gridcolor": "white",
           "linecolor": "white",
           "ticks": "",
           "title": {
            "standoff": 15
           },
           "zerolinecolor": "white",
           "zerolinewidth": 2
          }
         }
        },
        "xaxis": {
         "anchor": "y",
         "domain": [
          0,
          0.94
         ]
        },
        "yaxis": {
         "anchor": "x",
         "domain": [
          0,
          1
         ]
        },
        "yaxis2": {
         "anchor": "x",
         "overlaying": "y",
         "side": "right"
        }
       }
      }
     },
     "metadata": {},
     "output_type": "display_data"
    }
   ],
   "source": [
    "import plotly.graph_objects as go\n",
    "\n",
    "from plotly.subplots import make_subplots\n",
    "\n",
    "# Create figure with secondary y-axis\n",
    "fig = make_subplots(specs=[[{\"secondary_y\": True}]])\n",
    "\n",
    "fig.add_trace(go.Bar(x=entreprise_value_t.index, y=entreprise_value_t.addTotalDebt,\n",
    "                    name='Debts'), secondary_y=True)\n",
    "\n",
    "fig.add_trace(go.Scatter(x=entreprise_value_t.index, y=entreprise_value_t.marketCapitalization,\n",
    "                    mode='lines+markers',\n",
    "                    name='Market Capitalization'), secondary_y=False)\n",
    "\n",
    "\"\"\"\n",
    "fig.add_trace(go.Bar(x=income_statement_annually_t.index, y=income_statement_annually_t.netIncome,\n",
    "                    name='NetIncome'), secondary_y=True)\n",
    "\n",
    "fig.add_trace(go.Bar(x=income_statement_annually_t.index, y=income_statement_annually_t.ebitda,\n",
    "                    name='Ebitda'), secondary_y=True)\n",
    "\n",
    "\"\"\"\n",
    "\n",
    "fig.show()"
   ]
  },
  {
   "cell_type": "code",
   "execution_count": null,
   "metadata": {},
   "outputs": [],
   "source": []
  }
 ],
 "metadata": {
  "kernelspec": {
   "display_name": "base",
   "language": "python",
   "name": "python3"
  },
  "language_info": {
   "codemirror_mode": {
    "name": "ipython",
    "version": 3
   },
   "file_extension": ".py",
   "mimetype": "text/x-python",
   "name": "python",
   "nbconvert_exporter": "python",
   "pygments_lexer": "ipython3",
   "version": "3.7.6"
  },
  "vscode": {
   "interpreter": {
    "hash": "40d3a090f54c6569ab1632332b64b2c03c39dcf918b08424e98f38b5ae0af88f"
   }
  }
 },
 "nbformat": 4,
 "nbformat_minor": 4
}
