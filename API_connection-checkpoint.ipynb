{
 "cells": [
  {
   "cell_type": "code",
   "execution_count": 2,
   "metadata": {},
   "outputs": [],
   "source": [
    "import pandas as pd\n",
    "import fundamentalanalysis as fa"
   ]
  },
  {
   "cell_type": "code",
   "execution_count": 5,
   "metadata": {},
   "outputs": [],
   "source": [
    "ticker_comp = [\"NVDA\", \"AMD\", \"INTC\"]\n",
    "ticker = \"ASML\"\n",
    "api_key = \"1b4822b50840ef4f0117ef527756d7c6\""
   ]
  },
  {
   "cell_type": "code",
   "execution_count": 7,
   "metadata": {},
   "outputs": [],
   "source": [
    "companies = fa.available_companies(api_key)"
   ]
  },
  {
   "cell_type": "code",
   "execution_count": 8,
   "metadata": {},
   "outputs": [
    {
     "data": {
      "text/html": [
       "<div>\n",
       "<style scoped>\n",
       "    .dataframe tbody tr th:only-of-type {\n",
       "        vertical-align: middle;\n",
       "    }\n",
       "\n",
       "    .dataframe tbody tr th {\n",
       "        vertical-align: top;\n",
       "    }\n",
       "\n",
       "    .dataframe thead th {\n",
       "        text-align: right;\n",
       "    }\n",
       "</style>\n",
       "<table border=\"1\" class=\"dataframe\">\n",
       "  <thead>\n",
       "    <tr style=\"text-align: right;\">\n",
       "      <th></th>\n",
       "      <th>name</th>\n",
       "      <th>price</th>\n",
       "      <th>exchange</th>\n",
       "      <th>exchangeShortName</th>\n",
       "      <th>type</th>\n",
       "    </tr>\n",
       "    <tr>\n",
       "      <th>symbol</th>\n",
       "      <th></th>\n",
       "      <th></th>\n",
       "      <th></th>\n",
       "      <th></th>\n",
       "      <th></th>\n",
       "    </tr>\n",
       "  </thead>\n",
       "  <tbody>\n",
       "    <tr>\n",
       "      <th>KZMS.ME</th>\n",
       "      <td>The Open Joint Stock Company Krasnokamsk Metal...</td>\n",
       "      <td>226.0000</td>\n",
       "      <td>MCX</td>\n",
       "      <td>MCX</td>\n",
       "      <td>stock</td>\n",
       "    </tr>\n",
       "    <tr>\n",
       "      <th>YAFFX</th>\n",
       "      <td>AMG Yacktman Focused Fund</td>\n",
       "      <td>19.0000</td>\n",
       "      <td>Nasdaq</td>\n",
       "      <td>NASDAQ</td>\n",
       "      <td>trust</td>\n",
       "    </tr>\n",
       "    <tr>\n",
       "      <th>YAFIX</th>\n",
       "      <td>AMG Funds - AMG Yacktman Focused Fund</td>\n",
       "      <td>18.9300</td>\n",
       "      <td>Nasdaq</td>\n",
       "      <td>NASDAQ</td>\n",
       "      <td>trust</td>\n",
       "    </tr>\n",
       "    <tr>\n",
       "      <th>ZSCCX</th>\n",
       "      <td>Zacks Small-Cap Core Fund</td>\n",
       "      <td>32.9800</td>\n",
       "      <td>Nasdaq</td>\n",
       "      <td>NASDAQ</td>\n",
       "      <td>trust</td>\n",
       "    </tr>\n",
       "    <tr>\n",
       "      <th>ZSCIX</th>\n",
       "      <td>Zacks Small-Cap Core Fund Institutional Class</td>\n",
       "      <td>33.5500</td>\n",
       "      <td>Nasdaq</td>\n",
       "      <td>NASDAQ</td>\n",
       "      <td>trust</td>\n",
       "    </tr>\n",
       "    <tr>\n",
       "      <th>...</th>\n",
       "      <td>...</td>\n",
       "      <td>...</td>\n",
       "      <td>...</td>\n",
       "      <td>...</td>\n",
       "      <td>...</td>\n",
       "    </tr>\n",
       "    <tr>\n",
       "      <th>WBIT</th>\n",
       "      <td>WBI BullBear Trend Switch US 3000 Total Return...</td>\n",
       "      <td>18.1100</td>\n",
       "      <td>New York Stock Exchange Arca</td>\n",
       "      <td>AMEX</td>\n",
       "      <td>etf</td>\n",
       "    </tr>\n",
       "    <tr>\n",
       "      <th>TPGY-UN</th>\n",
       "      <td>TPG Pace Beneficial Finance Corp.</td>\n",
       "      <td>10.0500</td>\n",
       "      <td>New York Stock Exchange</td>\n",
       "      <td>NYSE</td>\n",
       "      <td>stock</td>\n",
       "    </tr>\n",
       "    <tr>\n",
       "      <th>LLL</th>\n",
       "      <td>JX Luxventure Limited</td>\n",
       "      <td>0.8391</td>\n",
       "      <td>NASDAQ Capital Market</td>\n",
       "      <td>NASDAQ</td>\n",
       "      <td>stock</td>\n",
       "    </tr>\n",
       "    <tr>\n",
       "      <th>HONY.L</th>\n",
       "      <td>Honeycomb Investment Trust Plc</td>\n",
       "      <td>790.0000</td>\n",
       "      <td>London Stock Exchange</td>\n",
       "      <td>LSE</td>\n",
       "      <td>trust</td>\n",
       "    </tr>\n",
       "    <tr>\n",
       "      <th>ESP.AS</th>\n",
       "      <td>Esperite N.V.</td>\n",
       "      <td>0.0092</td>\n",
       "      <td>Amsterdam</td>\n",
       "      <td>AMS</td>\n",
       "      <td>stock</td>\n",
       "    </tr>\n",
       "  </tbody>\n",
       "</table>\n",
       "<p>68645 rows × 5 columns</p>\n",
       "</div>"
      ],
      "text/plain": [
       "                                                      name     price  \\\n",
       "symbol                                                                 \n",
       "KZMS.ME  The Open Joint Stock Company Krasnokamsk Metal...  226.0000   \n",
       "YAFFX                            AMG Yacktman Focused Fund   19.0000   \n",
       "YAFIX                AMG Funds - AMG Yacktman Focused Fund   18.9300   \n",
       "ZSCCX                            Zacks Small-Cap Core Fund   32.9800   \n",
       "ZSCIX        Zacks Small-Cap Core Fund Institutional Class   33.5500   \n",
       "...                                                    ...       ...   \n",
       "WBIT     WBI BullBear Trend Switch US 3000 Total Return...   18.1100   \n",
       "TPGY-UN                  TPG Pace Beneficial Finance Corp.   10.0500   \n",
       "LLL                                  JX Luxventure Limited    0.8391   \n",
       "HONY.L                      Honeycomb Investment Trust Plc  790.0000   \n",
       "ESP.AS                                       Esperite N.V.    0.0092   \n",
       "\n",
       "                             exchange exchangeShortName   type  \n",
       "symbol                                                          \n",
       "KZMS.ME                           MCX               MCX  stock  \n",
       "YAFFX                          Nasdaq            NASDAQ  trust  \n",
       "YAFIX                          Nasdaq            NASDAQ  trust  \n",
       "ZSCCX                          Nasdaq            NASDAQ  trust  \n",
       "ZSCIX                          Nasdaq            NASDAQ  trust  \n",
       "...                               ...               ...    ...  \n",
       "WBIT     New York Stock Exchange Arca              AMEX    etf  \n",
       "TPGY-UN       New York Stock Exchange              NYSE  stock  \n",
       "LLL             NASDAQ Capital Market            NASDAQ  stock  \n",
       "HONY.L          London Stock Exchange               LSE  trust  \n",
       "ESP.AS                      Amsterdam               AMS  stock  \n",
       "\n",
       "[68645 rows x 5 columns]"
      ]
     },
     "execution_count": 8,
     "metadata": {},
     "output_type": "execute_result"
    }
   ],
   "source": [
    "companies"
   ]
  },
  {
   "cell_type": "code",
   "execution_count": 20,
   "metadata": {},
   "outputs": [
    {
     "data": {
      "text/html": [
       "<div>\n",
       "<style scoped>\n",
       "    .dataframe tbody tr th:only-of-type {\n",
       "        vertical-align: middle;\n",
       "    }\n",
       "\n",
       "    .dataframe tbody tr th {\n",
       "        vertical-align: top;\n",
       "    }\n",
       "\n",
       "    .dataframe thead th {\n",
       "        text-align: right;\n",
       "    }\n",
       "</style>\n",
       "<table border=\"1\" class=\"dataframe\">\n",
       "  <thead>\n",
       "    <tr style=\"text-align: right;\">\n",
       "      <th></th>\n",
       "      <th>name</th>\n",
       "      <th>price</th>\n",
       "      <th>exchange</th>\n",
       "      <th>exchangeShortName</th>\n",
       "      <th>type</th>\n",
       "    </tr>\n",
       "    <tr>\n",
       "      <th>symbol</th>\n",
       "      <th></th>\n",
       "      <th></th>\n",
       "      <th></th>\n",
       "      <th></th>\n",
       "      <th></th>\n",
       "    </tr>\n",
       "  </thead>\n",
       "  <tbody>\n",
       "    <tr>\n",
       "      <th>AMD</th>\n",
       "      <td>Advanced Micro Devices, Inc.</td>\n",
       "      <td>81.52</td>\n",
       "      <td>NASDAQ Global Select</td>\n",
       "      <td>NASDAQ</td>\n",
       "      <td>stock</td>\n",
       "    </tr>\n",
       "    <tr>\n",
       "      <th>ASML</th>\n",
       "      <td>ASML Holding N.V.</td>\n",
       "      <td>637.38</td>\n",
       "      <td>NASDAQ Global Select</td>\n",
       "      <td>NASDAQ</td>\n",
       "      <td>stock</td>\n",
       "    </tr>\n",
       "    <tr>\n",
       "      <th>INTC</th>\n",
       "      <td>Intel Corporation</td>\n",
       "      <td>26.40</td>\n",
       "      <td>NASDAQ Global Select</td>\n",
       "      <td>NASDAQ</td>\n",
       "      <td>stock</td>\n",
       "    </tr>\n",
       "    <tr>\n",
       "      <th>NVDA</th>\n",
       "      <td>NVIDIA Corporation</td>\n",
       "      <td>238.90</td>\n",
       "      <td>NASDAQ Global Select</td>\n",
       "      <td>NASDAQ</td>\n",
       "      <td>stock</td>\n",
       "    </tr>\n",
       "  </tbody>\n",
       "</table>\n",
       "</div>"
      ],
      "text/plain": [
       "                                name   price              exchange  \\\n",
       "symbol                                                               \n",
       "AMD     Advanced Micro Devices, Inc.   81.52  NASDAQ Global Select   \n",
       "ASML               ASML Holding N.V.  637.38  NASDAQ Global Select   \n",
       "INTC               Intel Corporation   26.40  NASDAQ Global Select   \n",
       "NVDA              NVIDIA Corporation  238.90  NASDAQ Global Select   \n",
       "\n",
       "       exchangeShortName   type  \n",
       "symbol                           \n",
       "AMD               NASDAQ  stock  \n",
       "ASML              NASDAQ  stock  \n",
       "INTC              NASDAQ  stock  \n",
       "NVDA              NASDAQ  stock  "
      ]
     },
     "execution_count": 20,
     "metadata": {},
     "output_type": "execute_result"
    }
   ],
   "source": [
    "companies[companies.index.isin(ticker_comp)]"
   ]
  },
  {
   "cell_type": "code",
   "execution_count": 48,
   "metadata": {},
   "outputs": [],
   "source": [
    "def ObtainProfiles(ticker, ticker_comp):\n",
    "    profile = fa.profile(ticker, api_key)\n",
    "    for i in ticker_comp:\n",
    "        data_company = fa.profile(i, api_key)\n",
    "        profile = profile.merge(data_company, left_index = True, right_index = True)"
   ]
  },
  {
   "cell_type": "code",
   "execution_count": 58,
   "metadata": {},
   "outputs": [],
   "source": [
    "balance_sheet_annually = fa.balance_sheet_statement(ticker, api_key, period=\"annual\")\n",
    "key_metrics_annually = fa.key_metrics(ticker, api_key, period=\"annual\")\n",
    "entreprise_value = fa.enterprise(ticker, api_key) #Collects Market Cap and enterprise value\n",
    "quotes = fa.quote(ticker, api_key) # Collect recent company quotes\n",
    "ratings = fa.rating(ticker, api_key) # Show recommendations of Analysts\n",
    "cash_flow_statement_annually = fa.cash_flow_statement(ticker, api_key, period=\"annual\") # Collect the Cash Flow Statements\n",
    "income_statement_annually = fa.income_statement(ticker, api_key, period=\"annual\") # Collect the Income Statements"
   ]
  },
  {
   "cell_type": "code",
   "execution_count": 67,
   "metadata": {},
   "outputs": [
    {
     "data": {
      "text/plain": [
       "Index(['period', 'revenuePerShare', 'netIncomePerShare',\n",
       "       'operatingCashFlowPerShare', 'freeCashFlowPerShare', 'cashPerShare',\n",
       "       'bookValuePerShare', 'tangibleBookValuePerShare',\n",
       "       'shareholdersEquityPerShare', 'interestDebtPerShare', 'marketCap',\n",
       "       'enterpriseValue', 'peRatio', 'priceToSalesRatio', 'pocfratio',\n",
       "       'pfcfRatio', 'pbRatio', 'ptbRatio', 'evToSales',\n",
       "       'enterpriseValueOverEBITDA', 'evToOperatingCashFlow',\n",
       "       'evToFreeCashFlow', 'earningsYield', 'freeCashFlowYield',\n",
       "       'debtToEquity', 'debtToAssets', 'netDebtToEBITDA', 'currentRatio',\n",
       "       'interestCoverage', 'incomeQuality', 'dividendYield', 'payoutRatio',\n",
       "       'salesGeneralAndAdministrativeToRevenue',\n",
       "       'researchAndDdevelopementToRevenue', 'intangiblesToTotalAssets',\n",
       "       'capexToOperatingCashFlow', 'capexToRevenue', 'capexToDepreciation',\n",
       "       'stockBasedCompensationToRevenue', 'grahamNumber', 'roic',\n",
       "       'returnOnTangibleAssets', 'grahamNetNet', 'workingCapital',\n",
       "       'tangibleAssetValue', 'netCurrentAssetValue', 'investedCapital',\n",
       "       'averageReceivables', 'averagePayables', 'averageInventory',\n",
       "       'daysSalesOutstanding', 'daysPayablesOutstanding',\n",
       "       'daysOfInventoryOnHand', 'receivablesTurnover', 'payablesTurnover',\n",
       "       'inventoryTurnover', 'roe', 'capexPerShare'],\n",
       "      dtype='object')"
      ]
     },
     "execution_count": 67,
     "metadata": {},
     "output_type": "execute_result"
    }
   ],
   "source": [
    "key_metrics_annually_t = key_metrics_annually.T\n",
    "key_metrics_annually_t.columns"
   ]
  },
  {
   "cell_type": "code",
   "execution_count": 3,
   "metadata": {},
   "outputs": [
    {
     "ename": "NameError",
     "evalue": "name 'fig' is not defined",
     "output_type": "error",
     "traceback": [
      "\u001b[0;31m---------------------------------------------------------------------------\u001b[0m",
      "\u001b[0;31mNameError\u001b[0m                                 Traceback (most recent call last)",
      "\u001b[0;32m<ipython-input-3-a2975c83f385>\u001b[0m in \u001b[0;36m<module>\u001b[0;34m\u001b[0m\n\u001b[1;32m      1\u001b[0m \u001b[0;32mimport\u001b[0m \u001b[0mplotly\u001b[0m\u001b[0;34m.\u001b[0m\u001b[0mgraph_objects\u001b[0m \u001b[0;32mas\u001b[0m \u001b[0mgo\u001b[0m\u001b[0;34m\u001b[0m\u001b[0;34m\u001b[0m\u001b[0m\n\u001b[1;32m      2\u001b[0m \u001b[0;34m\u001b[0m\u001b[0m\n\u001b[0;32m----> 3\u001b[0;31m fig.add_trace(go.Scatter(x=key_metrics_annually_t.peRatio, y=key_metrics_annually_t.period,\n\u001b[0m\u001b[1;32m      4\u001b[0m                     \u001b[0mmode\u001b[0m\u001b[0;34m=\u001b[0m\u001b[0;34m'markers'\u001b[0m\u001b[0;34m,\u001b[0m\u001b[0;34m\u001b[0m\u001b[0;34m\u001b[0m\u001b[0m\n\u001b[1;32m      5\u001b[0m                     name='markers'))\n",
      "\u001b[0;31mNameError\u001b[0m: name 'fig' is not defined"
     ]
    }
   ],
   "source": [
    "import plotly.graph_objects as go\n",
    "\n",
    "fig.add_trace(go.Scatter(x=key_metrics_annually_t.peRatio, y=key_metrics_annually_t.period,\n",
    "                    mode='markers',\n",
    "                    name='markers'))\n",
    "fig.show()"
   ]
  },
  {
   "cell_type": "code",
   "execution_count": null,
   "metadata": {},
   "outputs": [],
   "source": []
  }
 ],
 "metadata": {
  "kernelspec": {
   "display_name": "base",
   "language": "python",
   "name": "python3"
  },
  "language_info": {
   "codemirror_mode": {
    "name": "ipython",
    "version": 3
   },
   "file_extension": ".py",
   "mimetype": "text/x-python",
   "name": "python",
   "nbconvert_exporter": "python",
   "pygments_lexer": "ipython3",
   "version": "3.7.6"
  },
  "vscode": {
   "interpreter": {
    "hash": "40d3a090f54c6569ab1632332b64b2c03c39dcf918b08424e98f38b5ae0af88f"
   }
  }
 },
 "nbformat": 4,
 "nbformat_minor": 4
}
